{
 "cells": [
  {
   "cell_type": "markdown",
   "id": "8a4bd46c-86d7-49b7-9741-ecec16b0c9ad",
   "metadata": {},
   "source": [
    "Troy Morgan  \n",
    "Week 9 Independent Lab  \n",
    "BGEN 632, Graduate Introduction to Python  \n",
    "Submitted \n",
    "\n",
    "Independent Lab: Inferential Statistics"
   ]
  },
  {
   "cell_type": "markdown",
   "id": "d54b118d-2db8-4e44-a754-d0bc144fb35f",
   "metadata": {},
   "source": [
    "# Notebook Setup"
   ]
  },
  {
   "cell_type": "code",
   "execution_count": 2,
   "id": "128ab9de-e2d3-4934-ac9d-db99402ba51f",
   "metadata": {},
   "outputs": [],
   "source": [
    "# load modules\n",
    "import os\n",
    "import pandas as pd\n",
    "import numpy as np\n",
    "import matplotlib.pyplot as plt\n",
    "import scipy.stats as sts # for QQ plot\n",
    "from scipy.stats import pearsonr # correlation p-values\n",
    "from sklearn.linear_model import LinearRegression # regression output\n",
    "import statsmodels.formula.api as smf # ols regression"
   ]
  },
  {
   "cell_type": "code",
   "execution_count": 3,
   "id": "86140ef0-0226-4ea3-874d-4e5e667eb820",
   "metadata": {},
   "outputs": [
    {
     "data": {
      "text/plain": [
       "'C:\\\\Users\\\\troy.morgan\\\\Documents\\\\GitHub\\\\week9labs\\\\data'"
      ]
     },
     "execution_count": 3,
     "metadata": {},
     "output_type": "execute_result"
    }
   ],
   "source": [
    "# Set working directory\n",
    "os.chdir(\"\\\\Users\\\\troy.morgan\\\\Documents\\\\GitHub\\\\week9labs/data\")  # change this to your filepath\n",
    "os.getcwd()  # confirm change"
   ]
  },
  {
   "cell_type": "code",
   "execution_count": 4,
   "id": "6d8580e7-526b-4387-88bd-88c446c1ec29",
   "metadata": {},
   "outputs": [
    {
     "data": {
      "text/html": [
       "<div>\n",
       "<style scoped>\n",
       "    .dataframe tbody tr th:only-of-type {\n",
       "        vertical-align: middle;\n",
       "    }\n",
       "\n",
       "    .dataframe tbody tr th {\n",
       "        vertical-align: top;\n",
       "    }\n",
       "\n",
       "    .dataframe thead th {\n",
       "        text-align: right;\n",
       "    }\n",
       "</style>\n",
       "<table border=\"1\" class=\"dataframe\">\n",
       "  <thead>\n",
       "    <tr style=\"text-align: right;\">\n",
       "      <th></th>\n",
       "      <th>attitude1_01</th>\n",
       "      <th>attitude1_02</th>\n",
       "      <th>attitude1_03</th>\n",
       "      <th>attitude1_04</th>\n",
       "      <th>intent1_01</th>\n",
       "      <th>intent1_02</th>\n",
       "      <th>intent1_03</th>\n",
       "      <th>intent1_04</th>\n",
       "      <th>peruse01</th>\n",
       "      <th>peruse02</th>\n",
       "      <th>peruse03</th>\n",
       "      <th>peruse04</th>\n",
       "      <th>satis01</th>\n",
       "      <th>satis02</th>\n",
       "      <th>satis03</th>\n",
       "      <th>satis04</th>\n",
       "    </tr>\n",
       "  </thead>\n",
       "  <tbody>\n",
       "    <tr>\n",
       "      <th>0</th>\n",
       "      <td>6</td>\n",
       "      <td>6</td>\n",
       "      <td>6</td>\n",
       "      <td>6</td>\n",
       "      <td>6</td>\n",
       "      <td>6</td>\n",
       "      <td>6</td>\n",
       "      <td>6</td>\n",
       "      <td>6</td>\n",
       "      <td>4</td>\n",
       "      <td>5</td>\n",
       "      <td>5</td>\n",
       "      <td>5</td>\n",
       "      <td>5</td>\n",
       "      <td>5</td>\n",
       "      <td>5</td>\n",
       "    </tr>\n",
       "    <tr>\n",
       "      <th>1</th>\n",
       "      <td>7</td>\n",
       "      <td>7</td>\n",
       "      <td>7</td>\n",
       "      <td>7</td>\n",
       "      <td>7</td>\n",
       "      <td>7</td>\n",
       "      <td>7</td>\n",
       "      <td>7</td>\n",
       "      <td>7</td>\n",
       "      <td>7</td>\n",
       "      <td>7</td>\n",
       "      <td>7</td>\n",
       "      <td>7</td>\n",
       "      <td>6</td>\n",
       "      <td>6</td>\n",
       "      <td>6</td>\n",
       "    </tr>\n",
       "    <tr>\n",
       "      <th>2</th>\n",
       "      <td>6</td>\n",
       "      <td>6</td>\n",
       "      <td>6</td>\n",
       "      <td>6</td>\n",
       "      <td>7</td>\n",
       "      <td>7</td>\n",
       "      <td>7</td>\n",
       "      <td>7</td>\n",
       "      <td>6</td>\n",
       "      <td>5</td>\n",
       "      <td>5</td>\n",
       "      <td>5</td>\n",
       "      <td>5</td>\n",
       "      <td>5</td>\n",
       "      <td>5</td>\n",
       "      <td>5</td>\n",
       "    </tr>\n",
       "    <tr>\n",
       "      <th>3</th>\n",
       "      <td>7</td>\n",
       "      <td>7</td>\n",
       "      <td>7</td>\n",
       "      <td>7</td>\n",
       "      <td>6</td>\n",
       "      <td>6</td>\n",
       "      <td>7</td>\n",
       "      <td>6</td>\n",
       "      <td>5</td>\n",
       "      <td>5</td>\n",
       "      <td>5</td>\n",
       "      <td>5</td>\n",
       "      <td>7</td>\n",
       "      <td>6</td>\n",
       "      <td>7</td>\n",
       "      <td>6</td>\n",
       "    </tr>\n",
       "    <tr>\n",
       "      <th>4</th>\n",
       "      <td>7</td>\n",
       "      <td>7</td>\n",
       "      <td>6</td>\n",
       "      <td>6</td>\n",
       "      <td>7</td>\n",
       "      <td>7</td>\n",
       "      <td>7</td>\n",
       "      <td>6</td>\n",
       "      <td>6</td>\n",
       "      <td>6</td>\n",
       "      <td>7</td>\n",
       "      <td>7</td>\n",
       "      <td>6</td>\n",
       "      <td>6</td>\n",
       "      <td>6</td>\n",
       "      <td>6</td>\n",
       "    </tr>\n",
       "    <tr>\n",
       "      <th>...</th>\n",
       "      <td>...</td>\n",
       "      <td>...</td>\n",
       "      <td>...</td>\n",
       "      <td>...</td>\n",
       "      <td>...</td>\n",
       "      <td>...</td>\n",
       "      <td>...</td>\n",
       "      <td>...</td>\n",
       "      <td>...</td>\n",
       "      <td>...</td>\n",
       "      <td>...</td>\n",
       "      <td>...</td>\n",
       "      <td>...</td>\n",
       "      <td>...</td>\n",
       "      <td>...</td>\n",
       "      <td>...</td>\n",
       "    </tr>\n",
       "    <tr>\n",
       "      <th>196</th>\n",
       "      <td>6</td>\n",
       "      <td>6</td>\n",
       "      <td>6</td>\n",
       "      <td>7</td>\n",
       "      <td>7</td>\n",
       "      <td>6</td>\n",
       "      <td>7</td>\n",
       "      <td>6</td>\n",
       "      <td>6</td>\n",
       "      <td>5</td>\n",
       "      <td>5</td>\n",
       "      <td>5</td>\n",
       "      <td>6</td>\n",
       "      <td>6</td>\n",
       "      <td>6</td>\n",
       "      <td>5</td>\n",
       "    </tr>\n",
       "    <tr>\n",
       "      <th>197</th>\n",
       "      <td>5</td>\n",
       "      <td>6</td>\n",
       "      <td>6</td>\n",
       "      <td>6</td>\n",
       "      <td>7</td>\n",
       "      <td>7</td>\n",
       "      <td>7</td>\n",
       "      <td>7</td>\n",
       "      <td>7</td>\n",
       "      <td>7</td>\n",
       "      <td>6</td>\n",
       "      <td>6</td>\n",
       "      <td>6</td>\n",
       "      <td>4</td>\n",
       "      <td>4</td>\n",
       "      <td>6</td>\n",
       "    </tr>\n",
       "    <tr>\n",
       "      <th>198</th>\n",
       "      <td>6</td>\n",
       "      <td>5</td>\n",
       "      <td>6</td>\n",
       "      <td>6</td>\n",
       "      <td>5</td>\n",
       "      <td>6</td>\n",
       "      <td>6</td>\n",
       "      <td>5</td>\n",
       "      <td>6</td>\n",
       "      <td>5</td>\n",
       "      <td>6</td>\n",
       "      <td>5</td>\n",
       "      <td>5</td>\n",
       "      <td>5</td>\n",
       "      <td>6</td>\n",
       "      <td>5</td>\n",
       "    </tr>\n",
       "    <tr>\n",
       "      <th>199</th>\n",
       "      <td>6</td>\n",
       "      <td>6</td>\n",
       "      <td>6</td>\n",
       "      <td>6</td>\n",
       "      <td>6</td>\n",
       "      <td>7</td>\n",
       "      <td>6</td>\n",
       "      <td>6</td>\n",
       "      <td>6</td>\n",
       "      <td>6</td>\n",
       "      <td>7</td>\n",
       "      <td>7</td>\n",
       "      <td>5</td>\n",
       "      <td>5</td>\n",
       "      <td>6</td>\n",
       "      <td>5</td>\n",
       "    </tr>\n",
       "    <tr>\n",
       "      <th>200</th>\n",
       "      <td>7</td>\n",
       "      <td>7</td>\n",
       "      <td>6</td>\n",
       "      <td>7</td>\n",
       "      <td>7</td>\n",
       "      <td>7</td>\n",
       "      <td>7</td>\n",
       "      <td>7</td>\n",
       "      <td>7</td>\n",
       "      <td>7</td>\n",
       "      <td>7</td>\n",
       "      <td>7</td>\n",
       "      <td>7</td>\n",
       "      <td>7</td>\n",
       "      <td>7</td>\n",
       "      <td>7</td>\n",
       "    </tr>\n",
       "  </tbody>\n",
       "</table>\n",
       "<p>201 rows × 16 columns</p>\n",
       "</div>"
      ],
      "text/plain": [
       "     attitude1_01  attitude1_02  attitude1_03  attitude1_04  intent1_01  \\\n",
       "0               6             6             6             6           6   \n",
       "1               7             7             7             7           7   \n",
       "2               6             6             6             6           7   \n",
       "3               7             7             7             7           6   \n",
       "4               7             7             6             6           7   \n",
       "..            ...           ...           ...           ...         ...   \n",
       "196             6             6             6             7           7   \n",
       "197             5             6             6             6           7   \n",
       "198             6             5             6             6           5   \n",
       "199             6             6             6             6           6   \n",
       "200             7             7             6             7           7   \n",
       "\n",
       "     intent1_02  intent1_03  intent1_04  peruse01  peruse02  peruse03  \\\n",
       "0             6           6           6         6         4         5   \n",
       "1             7           7           7         7         7         7   \n",
       "2             7           7           7         6         5         5   \n",
       "3             6           7           6         5         5         5   \n",
       "4             7           7           6         6         6         7   \n",
       "..          ...         ...         ...       ...       ...       ...   \n",
       "196           6           7           6         6         5         5   \n",
       "197           7           7           7         7         7         6   \n",
       "198           6           6           5         6         5         6   \n",
       "199           7           6           6         6         6         7   \n",
       "200           7           7           7         7         7         7   \n",
       "\n",
       "     peruse04  satis01  satis02  satis03  satis04  \n",
       "0           5        5        5        5        5  \n",
       "1           7        7        6        6        6  \n",
       "2           5        5        5        5        5  \n",
       "3           5        7        6        7        6  \n",
       "4           7        6        6        6        6  \n",
       "..        ...      ...      ...      ...      ...  \n",
       "196         5        6        6        6        5  \n",
       "197         6        6        4        4        6  \n",
       "198         5        5        5        6        5  \n",
       "199         7        5        5        6        5  \n",
       "200         7        7        7        7        7  \n",
       "\n",
       "[201 rows x 16 columns]"
      ]
     },
     "execution_count": 4,
     "metadata": {},
     "output_type": "execute_result"
    }
   ],
   "source": [
    "# Load California hospital data and do a quick inspection. \n",
    "ect_data = pd.read_table(\"ect_data.txt\", delimiter='\\t')\n",
    "ect_data"
   ]
  },
  {
   "cell_type": "markdown",
   "id": "989a7f60-5580-4df6-b160-6bd610f69129",
   "metadata": {},
   "source": [
    "# Linear and Multiple Regression\n",
    "\n",
    "Using `intent1_01` as the target variable, create a regression model using only 5 of the other numerical variables.\n",
    "Do not include `intent1_02`, `intent1_03`, and `intent1_04` as independent variables.\n",
    "\n",
    "I will use attitude1_01, attitude1_02, attitude1_03, attitude1_04, and satis01. \n",
    "\n",
    "Are these likert scale answers on a survey?"
   ]
  },
  {
   "cell_type": "markdown",
   "id": "401cdac1-13c4-4049-9704-289f8e3b475c",
   "metadata": {},
   "source": [
    "## Assess the validity of the assumptions of linearity..."
   ]
  },
  {
   "cell_type": "code",
   "execution_count": 5,
   "id": "1cfd8961-99ba-4189-95d6-b32c322676ad",
   "metadata": {},
   "outputs": [
    {
     "data": {
      "text/plain": [
       "<Axes: xlabel='attitude1_01', ylabel='intent1_01'>"
      ]
     },
     "execution_count": 5,
     "metadata": {},
     "output_type": "execute_result"
    },
    {
     "data": {
      "image/png": "[encoded data removed]",
      "text/plain": [
       "<Figure size 640x480 with 1 Axes>"
      ]
     },
     "metadata": {},
     "output_type": "display_data"
    }
   ],
   "source": [
    "#Scatterplot with first variable.\n",
    "ect_data.plot.scatter(x='attitude1_01', y='intent1_01')"
   ]
  },
  {
   "cell_type": "code",
   "execution_count": 6,
   "id": "686b4a21-628a-42a5-93ad-de4f6eecda01",
   "metadata": {},
   "outputs": [
    {
     "data": {
      "text/plain": [
       "<Axes: xlabel='attitude1_02', ylabel='intent1_01'>"
      ]
     },
     "execution_count": 6,
     "metadata": {},
     "output_type": "execute_result"
    },
    {
     "data": {
      "image/png": "[encoded data removed]",
      "text/plain": [
       "<Figure size 640x480 with 1 Axes>"
      ]
     },
     "metadata": {},
     "output_type": "display_data"
    }
   ],
   "source": [
    "#Scatterplot with second variable.\n",
    "ect_data.plot.scatter(x='attitude1_02', y='intent1_01')"
   ]
  },
  {
   "cell_type": "code",
   "execution_count": 7,
   "id": "f55dba4c-bda7-422f-9ded-f45ddb8b2d05",
   "metadata": {},
   "outputs": [
    {
     "data": {
      "text/plain": [
       "<Axes: xlabel='attitude1_03', ylabel='intent1_01'>"
      ]
     },
     "execution_count": 7,
     "metadata": {},
     "output_type": "execute_result"
    },
    {
     "data": {
      "image/png": "[encoded data removed]",
      "text/plain": [
       "<Figure size 640x480 with 1 Axes>"
      ]
     },
     "metadata": {},
     "output_type": "display_data"
    }
   ],
   "source": [
    "#Scatterplot with third variable.\n",
    "ect_data.plot.scatter(x='attitude1_03', y='intent1_01')"
   ]
  },
  {
   "cell_type": "code",
   "execution_count": 8,
   "id": "8962e122-7872-4a20-9731-c8a472c2f494",
   "metadata": {},
   "outputs": [
    {
     "data": {
      "text/plain": [
       "<Axes: xlabel='attitude1_04', ylabel='intent1_01'>"
      ]
     },
     "execution_count": 8,
     "metadata": {},
     "output_type": "execute_result"
    },
    {
     "data": {
      "image/png": "[encoded data removed]",
      "text/plain": [
       "<Figure size 640x480 with 1 Axes>"
      ]
     },
     "metadata": {},
     "output_type": "display_data"
    }
   ],
   "source": [
    "#Scatterplot with fourth variable.\n",
    "ect_data.plot.scatter(x='attitude1_04', y='intent1_01')"
   ]
  },
  {
   "cell_type": "code",
   "execution_count": 9,
   "id": "590799cd-de42-4c23-96ef-ebf6b8274157",
   "metadata": {},
   "outputs": [
    {
     "data": {
      "text/plain": [
       "<Axes: xlabel='satis01', ylabel='intent1_01'>"
      ]
     },
     "execution_count": 9,
     "metadata": {},
     "output_type": "execute_result"
    },
    {
     "data": {
      "image/png": "[encoded data removed]",
      "text/plain": [
       "<Figure size 640x480 with 1 Axes>"
      ]
     },
     "metadata": {},
     "output_type": "display_data"
    }
   ],
   "source": [
    "#Scatterplot with fifth variable.\n",
    "ect_data.plot.scatter(x='satis01', y='intent1_01')"
   ]
  },
  {
   "cell_type": "markdown",
   "id": "c87bb18d-2458-4b5e-a031-02d5fbbb3378",
   "metadata": {},
   "source": [
    "### Assessment of linearity\n",
    "\n",
    "None of these look terribly linear to me, but maybe they are? I'm going to proceed on the assumption that they are so as to continue working on this assignment. "
   ]
  },
  {
   "cell_type": "markdown",
   "id": "5c354491-7044-4387-bba4-fd5633ee0fe7",
   "metadata": {},
   "source": [
    "## Assess the validity of the assumptions of collinearity..."
   ]
  },
  {
   "cell_type": "code",
   "execution_count": 14,
   "id": "3ac6a0d3-5238-45c3-be87-df8d092637cb",
   "metadata": {},
   "outputs": [
    {
     "name": "stdout",
     "output_type": "stream",
     "text": [
      "PearsonRResult(statistic=0.6663562202246993, pvalue=3.6154224826027544e-27)\n",
      "PearsonRResult(statistic=0.6036161039889795, pvalue=2.4408895712741707e-21)\n",
      "PearsonRResult(statistic=0.519098567478697, pvalue=2.9068684515866345e-15)\n",
      "PearsonRResult(statistic=0.5120316317108963, pvalue=7.907993696942252e-15)\n",
      "PearsonRResult(statistic=0.545688440252472, pvalue=5.425059701904438e-17)\n"
     ]
    }
   ],
   "source": [
    "# Use pearsonr() to calculate the correlation coefficient and pvalues for each independent variable against the target variable.\n",
    "print(pearsonr(ect_data.attitude1_01, ect_data.intent1_01))\n",
    "print(pearsonr(ect_data.attitude1_02, ect_data.intent1_01))\n",
    "print(pearsonr(ect_data.attitude1_03, ect_data.intent1_01))\n",
    "print(pearsonr(ect_data.attitude1_04, ect_data.intent1_01))\n",
    "print(pearsonr(ect_data.satis01, ect_data.intent1_01))"
   ]
  },
  {
   "cell_type": "markdown",
   "id": "e3b8d24e-8fc4-4e9a-b3cb-c827cef50102",
   "metadata": {},
   "source": [
    "### Assessment of collinearity\n",
    "\n",
    "I consulted ChatGPT for a plain language explanation of what these numbers mean (see reference). With that in mind, it seems there is a moderately strong correlation between each of our independent variables and the target variable. The p-values also indicate that these are highly statistically significant. \n",
    "\n",
    "Does the correlation coefficient also support the assumption of linearity?"
   ]
  },
  {
   "cell_type": "markdown",
   "id": "87718a4a-19da-4bd1-bdf4-e048b24a75a9",
   "metadata": {},
   "source": [
    "## Assess the validity of the assumptions of homoscedasticity..."
   ]
  },
  {
   "cell_type": "code",
   "execution_count": null,
   "id": "3734fcb8-1839-4c73-9af1-fdbe85ca49af",
   "metadata": {},
   "outputs": [],
   "source": []
  },
  {
   "cell_type": "markdown",
   "id": "ad8fb777-dd37-4501-9497-a89c4443e4fb",
   "metadata": {},
   "source": [
    "# References"
   ]
  },
  {
   "cell_type": "markdown",
   "id": "6a27d22b-9ad1-4fa1-99c6-4be887b5d35e",
   "metadata": {},
   "source": [
    "This ChatGPT exchange was used to interpret the results of the Pearson test:\n",
    "\n",
    "<div><center><img src = \"Assets/pearsonR_ChatGPT.png\"></center></div>\n",
    "\n"
   ]
  },
  {
   "cell_type": "code",
   "execution_count": null,
   "id": "e7512fae-09df-4b1f-b9ff-8fadbc36a981",
   "metadata": {},
   "outputs": [],
   "source": []
  }
 ],
 "metadata": {
  "kernelspec": {
   "display_name": "Python 3 (ipykernel)",
   "language": "python",
   "name": "python3"
  },
  "language_info": {
   "codemirror_mode": {
    "name": "ipython",
    "version": 3
   },
   "file_extension": ".py",
   "mimetype": "text/x-python",
   "name": "python",
   "nbconvert_exporter": "python",
   "pygments_lexer": "ipython3",
   "version": "3.12.7"
  }
 },
 "nbformat": 4,
 "nbformat_minor": 5
}
