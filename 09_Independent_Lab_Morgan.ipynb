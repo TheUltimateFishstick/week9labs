{
 "cells": [
  {
   "cell_type": "markdown",
   "id": "8a4bd46c-86d7-49b7-9741-ecec16b0c9ad",
   "metadata": {},
   "source": [
    "Troy Morgan  \n",
    "Week 9 Independent Lab  \n",
    "BGEN 632, Graduate Introduction to Python  \n",
    "Submitted \n",
    "\n",
    "Independent Lab: Inferential Statistics"
   ]
  },
  {
   "cell_type": "markdown",
   "id": "d54b118d-2db8-4e44-a754-d0bc144fb35f",
   "metadata": {},
   "source": [
    "# Notebook Setup"
   ]
  },
  {
   "cell_type": "code",
   "execution_count": 2,
   "id": "128ab9de-e2d3-4934-ac9d-db99402ba51f",
   "metadata": {},
   "outputs": [],
   "source": [
    "# load modules\n",
    "import os\n",
    "import pandas as pd\n",
    "import numpy as np\n",
    "import matplotlib.pyplot as plt\n",
    "import scipy.stats as sts # for QQ plot\n",
    "from scipy.stats import pearsonr # correlation p-values\n",
    "from sklearn.linear_model import LinearRegression # regression output\n",
    "import statsmodels.formula.api as smf # ols regression"
   ]
  },
  {
   "cell_type": "code",
   "execution_count": 3,
   "id": "86140ef0-0226-4ea3-874d-4e5e667eb820",
   "metadata": {},
   "outputs": [
    {
     "data": {
      "text/plain": [
       "'C:\\\\Users\\\\troy.morgan\\\\Documents\\\\GitHub\\\\week9labs\\\\data'"
      ]
     },
     "execution_count": 3,
     "metadata": {},
     "output_type": "execute_result"
    }
   ],
   "source": [
    "# Set working directory\n",
    "os.chdir(\"\\\\Users\\\\troy.morgan\\\\Documents\\\\GitHub\\\\week9labs/data\")  # change this to your filepath\n",
    "os.getcwd()  # confirm change"
   ]
  },
  {
   "cell_type": "code",
   "execution_count": 30,
   "id": "6d8580e7-526b-4387-88bd-88c446c1ec29",
   "metadata": {},
   "outputs": [
    {
     "data": {
      "text/html": [
       "<div>\n",
       "<style scoped>\n",
       "    .dataframe tbody tr th:only-of-type {\n",
       "        vertical-align: middle;\n",
       "    }\n",
       "\n",
       "    .dataframe tbody tr th {\n",
       "        vertical-align: top;\n",
       "    }\n",
       "\n",
       "    .dataframe thead th {\n",
       "        text-align: right;\n",
       "    }\n",
       "</style>\n",
       "<table border=\"1\" class=\"dataframe\">\n",
       "  <thead>\n",
       "    <tr style=\"text-align: right;\">\n",
       "      <th></th>\n",
       "      <th>attitude1_01</th>\n",
       "      <th>attitude1_02</th>\n",
       "      <th>attitude1_03</th>\n",
       "      <th>attitude1_04</th>\n",
       "      <th>intent1_01</th>\n",
       "      <th>intent1_02</th>\n",
       "      <th>intent1_03</th>\n",
       "      <th>intent1_04</th>\n",
       "      <th>peruse01</th>\n",
       "      <th>peruse02</th>\n",
       "      <th>peruse03</th>\n",
       "      <th>peruse04</th>\n",
       "      <th>satis01</th>\n",
       "      <th>satis02</th>\n",
       "      <th>satis03</th>\n",
       "      <th>satis04</th>\n",
       "    </tr>\n",
       "  </thead>\n",
       "  <tbody>\n",
       "    <tr>\n",
       "      <th>0</th>\n",
       "      <td>6</td>\n",
       "      <td>6</td>\n",
       "      <td>6</td>\n",
       "      <td>6</td>\n",
       "      <td>6</td>\n",
       "      <td>6</td>\n",
       "      <td>6</td>\n",
       "      <td>6</td>\n",
       "      <td>6</td>\n",
       "      <td>4</td>\n",
       "      <td>5</td>\n",
       "      <td>5</td>\n",
       "      <td>5</td>\n",
       "      <td>5</td>\n",
       "      <td>5</td>\n",
       "      <td>5</td>\n",
       "    </tr>\n",
       "    <tr>\n",
       "      <th>1</th>\n",
       "      <td>7</td>\n",
       "      <td>7</td>\n",
       "      <td>7</td>\n",
       "      <td>7</td>\n",
       "      <td>7</td>\n",
       "      <td>7</td>\n",
       "      <td>7</td>\n",
       "      <td>7</td>\n",
       "      <td>7</td>\n",
       "      <td>7</td>\n",
       "      <td>7</td>\n",
       "      <td>7</td>\n",
       "      <td>7</td>\n",
       "      <td>6</td>\n",
       "      <td>6</td>\n",
       "      <td>6</td>\n",
       "    </tr>\n",
       "    <tr>\n",
       "      <th>2</th>\n",
       "      <td>6</td>\n",
       "      <td>6</td>\n",
       "      <td>6</td>\n",
       "      <td>6</td>\n",
       "      <td>7</td>\n",
       "      <td>7</td>\n",
       "      <td>7</td>\n",
       "      <td>7</td>\n",
       "      <td>6</td>\n",
       "      <td>5</td>\n",
       "      <td>5</td>\n",
       "      <td>5</td>\n",
       "      <td>5</td>\n",
       "      <td>5</td>\n",
       "      <td>5</td>\n",
       "      <td>5</td>\n",
       "    </tr>\n",
       "    <tr>\n",
       "      <th>3</th>\n",
       "      <td>7</td>\n",
       "      <td>7</td>\n",
       "      <td>7</td>\n",
       "      <td>7</td>\n",
       "      <td>6</td>\n",
       "      <td>6</td>\n",
       "      <td>7</td>\n",
       "      <td>6</td>\n",
       "      <td>5</td>\n",
       "      <td>5</td>\n",
       "      <td>5</td>\n",
       "      <td>5</td>\n",
       "      <td>7</td>\n",
       "      <td>6</td>\n",
       "      <td>7</td>\n",
       "      <td>6</td>\n",
       "    </tr>\n",
       "    <tr>\n",
       "      <th>4</th>\n",
       "      <td>7</td>\n",
       "      <td>7</td>\n",
       "      <td>6</td>\n",
       "      <td>6</td>\n",
       "      <td>7</td>\n",
       "      <td>7</td>\n",
       "      <td>7</td>\n",
       "      <td>6</td>\n",
       "      <td>6</td>\n",
       "      <td>6</td>\n",
       "      <td>7</td>\n",
       "      <td>7</td>\n",
       "      <td>6</td>\n",
       "      <td>6</td>\n",
       "      <td>6</td>\n",
       "      <td>6</td>\n",
       "    </tr>\n",
       "    <tr>\n",
       "      <th>...</th>\n",
       "      <td>...</td>\n",
       "      <td>...</td>\n",
       "      <td>...</td>\n",
       "      <td>...</td>\n",
       "      <td>...</td>\n",
       "      <td>...</td>\n",
       "      <td>...</td>\n",
       "      <td>...</td>\n",
       "      <td>...</td>\n",
       "      <td>...</td>\n",
       "      <td>...</td>\n",
       "      <td>...</td>\n",
       "      <td>...</td>\n",
       "      <td>...</td>\n",
       "      <td>...</td>\n",
       "      <td>...</td>\n",
       "    </tr>\n",
       "    <tr>\n",
       "      <th>196</th>\n",
       "      <td>6</td>\n",
       "      <td>6</td>\n",
       "      <td>6</td>\n",
       "      <td>7</td>\n",
       "      <td>7</td>\n",
       "      <td>6</td>\n",
       "      <td>7</td>\n",
       "      <td>6</td>\n",
       "      <td>6</td>\n",
       "      <td>5</td>\n",
       "      <td>5</td>\n",
       "      <td>5</td>\n",
       "      <td>6</td>\n",
       "      <td>6</td>\n",
       "      <td>6</td>\n",
       "      <td>5</td>\n",
       "    </tr>\n",
       "    <tr>\n",
       "      <th>197</th>\n",
       "      <td>5</td>\n",
       "      <td>6</td>\n",
       "      <td>6</td>\n",
       "      <td>6</td>\n",
       "      <td>7</td>\n",
       "      <td>7</td>\n",
       "      <td>7</td>\n",
       "      <td>7</td>\n",
       "      <td>7</td>\n",
       "      <td>7</td>\n",
       "      <td>6</td>\n",
       "      <td>6</td>\n",
       "      <td>6</td>\n",
       "      <td>4</td>\n",
       "      <td>4</td>\n",
       "      <td>6</td>\n",
       "    </tr>\n",
       "    <tr>\n",
       "      <th>198</th>\n",
       "      <td>6</td>\n",
       "      <td>5</td>\n",
       "      <td>6</td>\n",
       "      <td>6</td>\n",
       "      <td>5</td>\n",
       "      <td>6</td>\n",
       "      <td>6</td>\n",
       "      <td>5</td>\n",
       "      <td>6</td>\n",
       "      <td>5</td>\n",
       "      <td>6</td>\n",
       "      <td>5</td>\n",
       "      <td>5</td>\n",
       "      <td>5</td>\n",
       "      <td>6</td>\n",
       "      <td>5</td>\n",
       "    </tr>\n",
       "    <tr>\n",
       "      <th>199</th>\n",
       "      <td>6</td>\n",
       "      <td>6</td>\n",
       "      <td>6</td>\n",
       "      <td>6</td>\n",
       "      <td>6</td>\n",
       "      <td>7</td>\n",
       "      <td>6</td>\n",
       "      <td>6</td>\n",
       "      <td>6</td>\n",
       "      <td>6</td>\n",
       "      <td>7</td>\n",
       "      <td>7</td>\n",
       "      <td>5</td>\n",
       "      <td>5</td>\n",
       "      <td>6</td>\n",
       "      <td>5</td>\n",
       "    </tr>\n",
       "    <tr>\n",
       "      <th>200</th>\n",
       "      <td>7</td>\n",
       "      <td>7</td>\n",
       "      <td>6</td>\n",
       "      <td>7</td>\n",
       "      <td>7</td>\n",
       "      <td>7</td>\n",
       "      <td>7</td>\n",
       "      <td>7</td>\n",
       "      <td>7</td>\n",
       "      <td>7</td>\n",
       "      <td>7</td>\n",
       "      <td>7</td>\n",
       "      <td>7</td>\n",
       "      <td>7</td>\n",
       "      <td>7</td>\n",
       "      <td>7</td>\n",
       "    </tr>\n",
       "  </tbody>\n",
       "</table>\n",
       "<p>201 rows × 16 columns</p>\n",
       "</div>"
      ],
      "text/plain": [
       "     attitude1_01  attitude1_02  attitude1_03  attitude1_04  intent1_01  \\\n",
       "0               6             6             6             6           6   \n",
       "1               7             7             7             7           7   \n",
       "2               6             6             6             6           7   \n",
       "3               7             7             7             7           6   \n",
       "4               7             7             6             6           7   \n",
       "..            ...           ...           ...           ...         ...   \n",
       "196             6             6             6             7           7   \n",
       "197             5             6             6             6           7   \n",
       "198             6             5             6             6           5   \n",
       "199             6             6             6             6           6   \n",
       "200             7             7             6             7           7   \n",
       "\n",
       "     intent1_02  intent1_03  intent1_04  peruse01  peruse02  peruse03  \\\n",
       "0             6           6           6         6         4         5   \n",
       "1             7           7           7         7         7         7   \n",
       "2             7           7           7         6         5         5   \n",
       "3             6           7           6         5         5         5   \n",
       "4             7           7           6         6         6         7   \n",
       "..          ...         ...         ...       ...       ...       ...   \n",
       "196           6           7           6         6         5         5   \n",
       "197           7           7           7         7         7         6   \n",
       "198           6           6           5         6         5         6   \n",
       "199           7           6           6         6         6         7   \n",
       "200           7           7           7         7         7         7   \n",
       "\n",
       "     peruse04  satis01  satis02  satis03  satis04  \n",
       "0           5        5        5        5        5  \n",
       "1           7        7        6        6        6  \n",
       "2           5        5        5        5        5  \n",
       "3           5        7        6        7        6  \n",
       "4           7        6        6        6        6  \n",
       "..        ...      ...      ...      ...      ...  \n",
       "196         5        6        6        6        5  \n",
       "197         6        6        4        4        6  \n",
       "198         5        5        5        6        5  \n",
       "199         7        5        5        6        5  \n",
       "200         7        7        7        7        7  \n",
       "\n",
       "[201 rows x 16 columns]"
      ]
     },
     "execution_count": 30,
     "metadata": {},
     "output_type": "execute_result"
    }
   ],
   "source": [
    "# Load data and do a quick inspection. \n",
    "ect_data = pd.read_table(\"ect_data.txt\", delimiter='\\t')\n",
    "ect_data"
   ]
  },
  {
   "cell_type": "markdown",
   "id": "989a7f60-5580-4df6-b160-6bd610f69129",
   "metadata": {},
   "source": [
    "# Linear and Multiple Regression\n",
    "\n",
    "Using `intent1_01` as the target variable, create a regression model using only 5 of the other numerical variables.\n",
    "Do not include `intent1_02`, `intent1_03`, and `intent1_04` as independent variables.\n",
    "\n",
    "I will use attitude1_01, attitude1_02, attitude1_03, attitude1_04, and satis01. \n",
    "\n",
    "Are these likert scale answers on a survey?"
   ]
  },
  {
   "cell_type": "markdown",
   "id": "401cdac1-13c4-4049-9704-289f8e3b475c",
   "metadata": {},
   "source": [
    "## Assess the validity of the assumptions of linearity..."
   ]
  },
  {
   "cell_type": "code",
   "execution_count": 5,
   "id": "1cfd8961-99ba-4189-95d6-b32c322676ad",
   "metadata": {},
   "outputs": [
    {
     "data": {
      "text/plain": [
       "<Axes: xlabel='attitude1_01', ylabel='intent1_01'>"
      ]
     },
     "execution_count": 5,
     "metadata": {},
     "output_type": "execute_result"
    },
    {
     "data": {
      "image/png": "[encoded data removed]",
      "text/plain": [
       "<Figure size 640x480 with 1 Axes>"
      ]
     },
     "metadata": {},
     "output_type": "display_data"
    }
   ],
   "source": [
    "#Scatterplot with first variable.\n",
    "ect_data.plot.scatter(x='attitude1_01', y='intent1_01')"
   ]
  },
  {
   "cell_type": "code",
   "execution_count": 6,
   "id": "686b4a21-628a-42a5-93ad-de4f6eecda01",
   "metadata": {},
   "outputs": [
    {
     "data": {
      "text/plain": [
       "<Axes: xlabel='attitude1_02', ylabel='intent1_01'>"
      ]
     },
     "execution_count": 6,
     "metadata": {},
     "output_type": "execute_result"
    },
    {
     "data": {
      "image/png": "[encoded data removed]",
      "text/plain": [
       "<Figure size 640x480 with 1 Axes>"
      ]
     },
     "metadata": {},
     "output_type": "display_data"
    }
   ],
   "source": [
    "#Scatterplot with second variable.\n",
    "ect_data.plot.scatter(x='attitude1_02', y='intent1_01')"
   ]
  },
  {
   "cell_type": "code",
   "execution_count": 7,
   "id": "f55dba4c-bda7-422f-9ded-f45ddb8b2d05",
   "metadata": {},
   "outputs": [
    {
     "data": {
      "text/plain": [
       "<Axes: xlabel='attitude1_03', ylabel='intent1_01'>"
      ]
     },
     "execution_count": 7,
     "metadata": {},
     "output_type": "execute_result"
    },
    {
     "data": {
      "image/png": "[encoded data removed]",
      "text/plain": [
       "<Figure size 640x480 with 1 Axes>"
      ]
     },
     "metadata": {},
     "output_type": "display_data"
    }
   ],
   "source": [
    "#Scatterplot with third variable.\n",
    "ect_data.plot.scatter(x='attitude1_03', y='intent1_01')"
   ]
  },
  {
   "cell_type": "code",
   "execution_count": 8,
   "id": "8962e122-7872-4a20-9731-c8a472c2f494",
   "metadata": {},
   "outputs": [
    {
     "data": {
      "text/plain": [
       "<Axes: xlabel='attitude1_04', ylabel='intent1_01'>"
      ]
     },
     "execution_count": 8,
     "metadata": {},
     "output_type": "execute_result"
    },
    {
     "data": {
      "image/png": "[encoded data removed]",
      "text/plain": [
       "<Figure size 640x480 with 1 Axes>"
      ]
     },
     "metadata": {},
     "output_type": "display_data"
    }
   ],
   "source": [
    "#Scatterplot with fourth variable.\n",
    "ect_data.plot.scatter(x='attitude1_04', y='intent1_01')"
   ]
  },
  {
   "cell_type": "code",
   "execution_count": 9,
   "id": "590799cd-de42-4c23-96ef-ebf6b8274157",
   "metadata": {},
   "outputs": [
    {
     "data": {
      "text/plain": [
       "<Axes: xlabel='satis01', ylabel='intent1_01'>"
      ]
     },
     "execution_count": 9,
     "metadata": {},
     "output_type": "execute_result"
    },
    {
     "data": {
      "image/png": "[encoded data removed]",
      "text/plain": [
       "<Figure size 640x480 with 1 Axes>"
      ]
     },
     "metadata": {},
     "output_type": "display_data"
    }
   ],
   "source": [
    "#Scatterplot with fifth variable.\n",
    "ect_data.plot.scatter(x='satis01', y='intent1_01')"
   ]
  },
  {
   "cell_type": "markdown",
   "id": "c87bb18d-2458-4b5e-a031-02d5fbbb3378",
   "metadata": {},
   "source": [
    "### Assessment of linearity\n",
    "\n",
    "None of these look terribly linear to me, but maybe they are? I'm going to proceed on the assumption that they are so as to continue working on this assignment. "
   ]
  },
  {
   "cell_type": "markdown",
   "id": "5c354491-7044-4387-bba4-fd5633ee0fe7",
   "metadata": {},
   "source": [
    "## Assess the validity of the assumptions of collinearity..."
   ]
  },
  {
   "cell_type": "code",
   "execution_count": 14,
   "id": "3ac6a0d3-5238-45c3-be87-df8d092637cb",
   "metadata": {},
   "outputs": [
    {
     "name": "stdout",
     "output_type": "stream",
     "text": [
      "PearsonRResult(statistic=0.6663562202246993, pvalue=3.6154224826027544e-27)\n",
      "PearsonRResult(statistic=0.6036161039889795, pvalue=2.4408895712741707e-21)\n",
      "PearsonRResult(statistic=0.519098567478697, pvalue=2.9068684515866345e-15)\n",
      "PearsonRResult(statistic=0.5120316317108963, pvalue=7.907993696942252e-15)\n",
      "PearsonRResult(statistic=0.545688440252472, pvalue=5.425059701904438e-17)\n"
     ]
    }
   ],
   "source": [
    "# Use pearsonr() to calculate the correlation coefficient and pvalues for each independent variable against the target variable.\n",
    "print(pearsonr(ect_data.attitude1_01, ect_data.intent1_01))\n",
    "print(pearsonr(ect_data.attitude1_02, ect_data.intent1_01))\n",
    "print(pearsonr(ect_data.attitude1_03, ect_data.intent1_01))\n",
    "print(pearsonr(ect_data.attitude1_04, ect_data.intent1_01))\n",
    "print(pearsonr(ect_data.satis01, ect_data.intent1_01))"
   ]
  },
  {
   "cell_type": "markdown",
   "id": "e3b8d24e-8fc4-4e9a-b3cb-c827cef50102",
   "metadata": {},
   "source": [
    "### Assessment of collinearity\n",
    "\n",
    "I consulted ChatGPT for a plain language explanation of what these numbers mean (see reference). With that in mind, it seems there is a moderately strong correlation between each of our independent variables and the target variable. The p-values also indicate that these are highly statistically significant. \n",
    "\n",
    "Does the correlation coefficient also support the assumption of linearity?"
   ]
  },
  {
   "cell_type": "markdown",
   "id": "87718a4a-19da-4bd1-bdf4-e048b24a75a9",
   "metadata": {},
   "source": [
    "## Assess the validity of the assumptions of homoscedasticity..."
   ]
  },
  {
   "cell_type": "code",
   "execution_count": 19,
   "id": "3734fcb8-1839-4c73-9af1-fdbe85ca49af",
   "metadata": {},
   "outputs": [
    {
     "data": {
      "image/png": "[encoded data removed]",
      "text/plain": [
       "<Figure size 640x480 with 1 Axes>"
      ]
     },
     "metadata": {},
     "output_type": "display_data"
    }
   ],
   "source": [
    "# Generatate a plot using the library statsmodels and its function ols().fit()\n",
    "# Is this what builds the regression model?\n",
    "lin_reg_1 = smf.ols('intent1_01 ~ attitude1_01 + attitude1_02 + attitude1_03 + attitude1_04 + satis01', ect_data).fit()\n",
    "\n",
    "# assess homoscedasticity\n",
    "plt.scatter(lin_reg_1.fittedvalues, lin_reg_1.resid)\n",
    "plt.xlabel('Predicted/Fitted Values')\n",
    "plt.ylabel('Residual Values')\n",
    "plt.title('Assessing Homoscedasticity')\n",
    "plt.plot([-40, 120],[0, 0], 'red', lw=2)   # add red horizontal line\n",
    "plt.show()"
   ]
  },
  {
   "cell_type": "markdown",
   "id": "26ba4795-7ccf-49ba-bcbf-996ae859c245",
   "metadata": {},
   "source": [
    "### Assessment of homoscedasticity\n",
    "\n",
    "Not knowing how to interprety that, I consulted ChatGPT (see reference). I asked what it meant that the results were arranged in an almost verticle line. It sugguested I do the following:"
   ]
  },
  {
   "cell_type": "code",
   "execution_count": 25,
   "id": "008903b3-54a0-48bb-8b82-6b8a0adac1ab",
   "metadata": {},
   "outputs": [
    {
     "data": {
      "text/plain": [
       "count    201.000000\n",
       "mean       6.199005\n",
       "std        0.719223\n",
       "min        3.628416\n",
       "25%        5.824443\n",
       "50%        6.242535\n",
       "75%        6.845516\n",
       "max        7.137073\n",
       "dtype: float64"
      ]
     },
     "execution_count": 25,
     "metadata": {},
     "output_type": "execute_result"
    }
   ],
   "source": [
    "# Get the range, mean, std, etc., of the predicted values.\n",
    "lin_reg_1.fittedvalues.describe()"
   ]
  },
  {
   "cell_type": "markdown",
   "id": "f049bb19-e4f1-497b-8f88-6cb560a8f9b8",
   "metadata": {},
   "source": [
    "It replied that \"Your fitted values are tightly clustered in a small range—about 3.5 units total. That’s why your scatterplot looks like a vertical line: the x-axis doesn’t have enough visual spread, so the points all bunch together.\" It further suggested that I widen th x axis as follows:"
   ]
  },
  {
   "cell_type": "code",
   "execution_count": 29,
   "id": "85793d89-b00e-4139-bdc5-b3be99fc59b1",
   "metadata": {},
   "outputs": [
    {
     "data": {
      "image/png": "[encoded data removed]",
      "text/plain": [
       "<Figure size 640x480 with 1 Axes>"
      ]
     },
     "metadata": {},
     "output_type": "display_data"
    }
   ],
   "source": [
    "# assess homoscedasticity with ChatGPT's suggested changes to widen the x axis.\n",
    "plt.scatter(lin_reg_1.fittedvalues, lin_reg_1.resid)\n",
    "plt.xlabel('Predicted/Fitted Values')\n",
    "plt.ylabel('Residual Values')\n",
    "plt.title('Assessing Homoscedasticity')\n",
    "plt.axhline(0, color='red', lw=2)\n",
    "plt.xlim(2.5, 8.5)  # manually expand the range\n",
    "plt.show()"
   ]
  },
  {
   "cell_type": "markdown",
   "id": "5c03c27e-20a3-447d-be80-e84c82ae4f98",
   "metadata": {},
   "source": [
    "Well, that certainly looks different! I played around with the xlim values to see how that affected the plot. That is super neat! ChatGPT tells me that the \"residuals clearly show a funnel shape\" and that \"this is a classic sign of heteroscedasticity.\" So... yeah."
   ]
  },
  {
   "cell_type": "markdown",
   "id": "c2b6dd80-1e62-4b77-99ff-0cd52d49d277",
   "metadata": {},
   "source": [
    "## Assess the validity of the assumptions of independence..."
   ]
  },
  {
   "cell_type": "code",
   "execution_count": 21,
   "id": "2925e7bb-1c44-45fb-bf03-1f62b268f51c",
   "metadata": {},
   "outputs": [
    {
     "data": {
      "text/html": [
       "<table class=\"simpletable\">\n",
       "<caption>OLS Regression Results</caption>\n",
       "<tr>\n",
       "  <th>Dep. Variable:</th>       <td>intent1_01</td>    <th>  R-squared:         </th> <td>   0.497</td>\n",
       "</tr>\n",
       "<tr>\n",
       "  <th>Model:</th>                   <td>OLS</td>       <th>  Adj. R-squared:    </th> <td>   0.484</td>\n",
       "</tr>\n",
       "<tr>\n",
       "  <th>Method:</th>             <td>Least Squares</td>  <th>  F-statistic:       </th> <td>   38.58</td>\n",
       "</tr>\n",
       "<tr>\n",
       "  <th>Date:</th>             <td>Wed, 23 Apr 2025</td> <th>  Prob (F-statistic):</th> <td>1.99e-27</td>\n",
       "</tr>\n",
       "<tr>\n",
       "  <th>Time:</th>                 <td>10:19:36</td>     <th>  Log-Likelihood:    </th> <td> -219.55</td>\n",
       "</tr>\n",
       "<tr>\n",
       "  <th>No. Observations:</th>      <td>   201</td>      <th>  AIC:               </th> <td>   451.1</td>\n",
       "</tr>\n",
       "<tr>\n",
       "  <th>Df Residuals:</th>          <td>   195</td>      <th>  BIC:               </th> <td>   470.9</td>\n",
       "</tr>\n",
       "<tr>\n",
       "  <th>Df Model:</th>              <td>     5</td>      <th>                     </th>     <td> </td>   \n",
       "</tr>\n",
       "<tr>\n",
       "  <th>Covariance Type:</th>      <td>nonrobust</td>    <th>                     </th>     <td> </td>   \n",
       "</tr>\n",
       "</table>\n",
       "<table class=\"simpletable\">\n",
       "<tr>\n",
       "        <td></td>          <th>coef</th>     <th>std err</th>      <th>t</th>      <th>P>|t|</th>  <th>[0.025</th>    <th>0.975]</th>  \n",
       "</tr>\n",
       "<tr>\n",
       "  <th>Intercept</th>    <td>    1.3685</td> <td>    0.360</td> <td>    3.797</td> <td> 0.000</td> <td>    0.658</td> <td>    2.079</td>\n",
       "</tr>\n",
       "<tr>\n",
       "  <th>attitude1_01</th> <td>    0.4514</td> <td>    0.105</td> <td>    4.289</td> <td> 0.000</td> <td>    0.244</td> <td>    0.659</td>\n",
       "</tr>\n",
       "<tr>\n",
       "  <th>attitude1_02</th> <td>    0.1682</td> <td>    0.079</td> <td>    2.126</td> <td> 0.035</td> <td>    0.012</td> <td>    0.324</td>\n",
       "</tr>\n",
       "<tr>\n",
       "  <th>attitude1_03</th> <td>   -0.0656</td> <td>    0.103</td> <td>   -0.638</td> <td> 0.524</td> <td>   -0.268</td> <td>    0.137</td>\n",
       "</tr>\n",
       "<tr>\n",
       "  <th>attitude1_04</th> <td>    0.0489</td> <td>    0.103</td> <td>    0.477</td> <td> 0.634</td> <td>   -0.153</td> <td>    0.251</td>\n",
       "</tr>\n",
       "<tr>\n",
       "  <th>satis01</th>      <td>    0.2094</td> <td>    0.058</td> <td>    3.624</td> <td> 0.000</td> <td>    0.095</td> <td>    0.323</td>\n",
       "</tr>\n",
       "</table>\n",
       "<table class=\"simpletable\">\n",
       "<tr>\n",
       "  <th>Omnibus:</th>       <td>68.673</td> <th>  Durbin-Watson:     </th> <td>   1.947</td>\n",
       "</tr>\n",
       "<tr>\n",
       "  <th>Prob(Omnibus):</th> <td> 0.000</td> <th>  Jarque-Bera (JB):  </th> <td> 363.621</td>\n",
       "</tr>\n",
       "<tr>\n",
       "  <th>Skew:</th>          <td>-1.191</td> <th>  Prob(JB):          </th> <td>1.10e-79</td>\n",
       "</tr>\n",
       "<tr>\n",
       "  <th>Kurtosis:</th>      <td> 9.144</td> <th>  Cond. No.          </th> <td>    93.5</td>\n",
       "</tr>\n",
       "</table><br/><br/>Notes:<br/>[1] Standard Errors assume that the covariance matrix of the errors is correctly specified."
      ],
      "text/latex": [
       "\\begin{center}\n",
       "\\begin{tabular}{lclc}\n",
       "\\toprule\n",
       "\\textbf{Dep. Variable:}    &   intent1\\_01    & \\textbf{  R-squared:         } &     0.497   \\\\\n",
       "\\textbf{Model:}            &       OLS        & \\textbf{  Adj. R-squared:    } &     0.484   \\\\\n",
       "\\textbf{Method:}           &  Least Squares   & \\textbf{  F-statistic:       } &     38.58   \\\\\n",
       "\\textbf{Date:}             & Wed, 23 Apr 2025 & \\textbf{  Prob (F-statistic):} &  1.99e-27   \\\\\n",
       "\\textbf{Time:}             &     10:19:36     & \\textbf{  Log-Likelihood:    } &   -219.55   \\\\\n",
       "\\textbf{No. Observations:} &         201      & \\textbf{  AIC:               } &     451.1   \\\\\n",
       "\\textbf{Df Residuals:}     &         195      & \\textbf{  BIC:               } &     470.9   \\\\\n",
       "\\textbf{Df Model:}         &           5      & \\textbf{                     } &             \\\\\n",
       "\\textbf{Covariance Type:}  &    nonrobust     & \\textbf{                     } &             \\\\\n",
       "\\bottomrule\n",
       "\\end{tabular}\n",
       "\\begin{tabular}{lcccccc}\n",
       "                       & \\textbf{coef} & \\textbf{std err} & \\textbf{t} & \\textbf{P$> |$t$|$} & \\textbf{[0.025} & \\textbf{0.975]}  \\\\\n",
       "\\midrule\n",
       "\\textbf{Intercept}     &       1.3685  &        0.360     &     3.797  &         0.000        &        0.658    &        2.079     \\\\\n",
       "\\textbf{attitude1\\_01} &       0.4514  &        0.105     &     4.289  &         0.000        &        0.244    &        0.659     \\\\\n",
       "\\textbf{attitude1\\_02} &       0.1682  &        0.079     &     2.126  &         0.035        &        0.012    &        0.324     \\\\\n",
       "\\textbf{attitude1\\_03} &      -0.0656  &        0.103     &    -0.638  &         0.524        &       -0.268    &        0.137     \\\\\n",
       "\\textbf{attitude1\\_04} &       0.0489  &        0.103     &     0.477  &         0.634        &       -0.153    &        0.251     \\\\\n",
       "\\textbf{satis01}       &       0.2094  &        0.058     &     3.624  &         0.000        &        0.095    &        0.323     \\\\\n",
       "\\bottomrule\n",
       "\\end{tabular}\n",
       "\\begin{tabular}{lclc}\n",
       "\\textbf{Omnibus:}       & 68.673 & \\textbf{  Durbin-Watson:     } &    1.947  \\\\\n",
       "\\textbf{Prob(Omnibus):} &  0.000 & \\textbf{  Jarque-Bera (JB):  } &  363.621  \\\\\n",
       "\\textbf{Skew:}          & -1.191 & \\textbf{  Prob(JB):          } & 1.10e-79  \\\\\n",
       "\\textbf{Kurtosis:}      &  9.144 & \\textbf{  Cond. No.          } &     93.5  \\\\\n",
       "\\bottomrule\n",
       "\\end{tabular}\n",
       "%\\caption{OLS Regression Results}\n",
       "\\end{center}\n",
       "\n",
       "Notes: \\newline\n",
       " [1] Standard Errors assume that the covariance matrix of the errors is correctly specified."
      ],
      "text/plain": [
       "<class 'statsmodels.iolib.summary.Summary'>\n",
       "\"\"\"\n",
       "                            OLS Regression Results                            \n",
       "==============================================================================\n",
       "Dep. Variable:             intent1_01   R-squared:                       0.497\n",
       "Model:                            OLS   Adj. R-squared:                  0.484\n",
       "Method:                 Least Squares   F-statistic:                     38.58\n",
       "Date:                Wed, 23 Apr 2025   Prob (F-statistic):           1.99e-27\n",
       "Time:                        10:19:36   Log-Likelihood:                -219.55\n",
       "No. Observations:                 201   AIC:                             451.1\n",
       "Df Residuals:                     195   BIC:                             470.9\n",
       "Df Model:                           5                                         \n",
       "Covariance Type:            nonrobust                                         \n",
       "================================================================================\n",
       "                   coef    std err          t      P>|t|      [0.025      0.975]\n",
       "--------------------------------------------------------------------------------\n",
       "Intercept        1.3685      0.360      3.797      0.000       0.658       2.079\n",
       "attitude1_01     0.4514      0.105      4.289      0.000       0.244       0.659\n",
       "attitude1_02     0.1682      0.079      2.126      0.035       0.012       0.324\n",
       "attitude1_03    -0.0656      0.103     -0.638      0.524      -0.268       0.137\n",
       "attitude1_04     0.0489      0.103      0.477      0.634      -0.153       0.251\n",
       "satis01          0.2094      0.058      3.624      0.000       0.095       0.323\n",
       "==============================================================================\n",
       "Omnibus:                       68.673   Durbin-Watson:                   1.947\n",
       "Prob(Omnibus):                  0.000   Jarque-Bera (JB):              363.621\n",
       "Skew:                          -1.191   Prob(JB):                     1.10e-79\n",
       "Kurtosis:                       9.144   Cond. No.                         93.5\n",
       "==============================================================================\n",
       "\n",
       "Notes:\n",
       "[1] Standard Errors assume that the covariance matrix of the errors is correctly specified.\n",
       "\"\"\""
      ]
     },
     "execution_count": 21,
     "metadata": {},
     "output_type": "execute_result"
    }
   ],
   "source": [
    "# Use .summary() to get the Durbin-Watson test statistic value. \n",
    "lin_reg_1.summary()"
   ]
  },
  {
   "cell_type": "markdown",
   "id": "e933751e-4a2c-45d4-9a67-ecdc7abc41ae",
   "metadata": {},
   "source": [
    "### Assessment of independence\n",
    "\n",
    "The Durbin-Watson value is 1.947, so in the range of 1.5 to 2.5, which is acceptable. "
   ]
  },
  {
   "cell_type": "markdown",
   "id": "d941e058-a445-43a1-a846-9a2d67ea86fb",
   "metadata": {},
   "source": [
    "## Assess the validity of the assumptions of normality..."
   ]
  },
  {
   "cell_type": "code",
   "execution_count": 22,
   "id": "6fba7926-7642-4138-ad1f-d4bfba2017ea",
   "metadata": {},
   "outputs": [
    {
     "data": {
      "text/plain": [
       "((array([-2.70235077, -2.39300644, -2.21670641, -2.09047253, -1.99075721,\n",
       "         -1.90762425, -1.83590295, -1.77254445, -1.71559368, -1.66371874,\n",
       "         -1.61596971, -1.57164427, -1.53020786, -1.49124379, -1.45442067,\n",
       "         -1.41947039, -1.38617282, -1.35434495, -1.32383285, -1.29450578,\n",
       "         -1.26625169, -1.2389738 , -1.21258791, -1.18702027, -1.1622059 ,\n",
       "         -1.13808725, -1.11461308, -1.09173755, -1.06941949, -1.04762177,\n",
       "         -1.02631079, -1.005456  , -0.98502958, -0.96500611, -0.94536226,\n",
       "         -0.92607659, -0.90712937, -0.88850233, -0.87017859, -0.85214246,\n",
       "         -0.83437937, -0.81687572, -0.79961884, -0.78259687, -0.76579869,\n",
       "         -0.74921388, -0.73283263, -0.71664571, -0.70064443, -0.68482057,\n",
       "         -0.66916635, -0.65367443, -0.63833783, -0.62314992, -0.60810442,\n",
       "         -0.59319534, -0.57841696, -0.56376385, -0.5492308 , -0.53481284,\n",
       "         -0.52050522, -0.50630336, -0.49220289, -0.47819962, -0.4642895 ,\n",
       "         -0.45046865, -0.43673331, -0.42307988, -0.40950487, -0.39600491,\n",
       "         -0.38257674, -0.3692172 , -0.35592325, -0.3426919 , -0.32952028,\n",
       "         -0.31640558, -0.30334508, -0.29033612, -0.27737611, -0.26446253,\n",
       "         -0.2515929 , -0.23876481, -0.22597589, -0.21322383, -0.20050634,\n",
       "         -0.18782121, -0.17516622, -0.16253923, -0.1499381 , -0.13736074,\n",
       "         -0.12480507, -0.11226904, -0.09975064, -0.08724784, -0.07475867,\n",
       "         -0.06228115, -0.04981332, -0.03735323, -0.02489894, -0.0124485 ,\n",
       "          0.        ,  0.0124485 ,  0.02489894,  0.03735323,  0.04981332,\n",
       "          0.06228115,  0.07475867,  0.08724784,  0.09975064,  0.11226904,\n",
       "          0.12480507,  0.13736074,  0.1499381 ,  0.16253923,  0.17516622,\n",
       "          0.18782121,  0.20050634,  0.21322383,  0.22597589,  0.23876481,\n",
       "          0.2515929 ,  0.26446253,  0.27737611,  0.29033612,  0.30334508,\n",
       "          0.31640558,  0.32952028,  0.3426919 ,  0.35592325,  0.3692172 ,\n",
       "          0.38257674,  0.39600491,  0.40950487,  0.42307988,  0.43673331,\n",
       "          0.45046865,  0.4642895 ,  0.47819962,  0.49220289,  0.50630336,\n",
       "          0.52050522,  0.53481284,  0.5492308 ,  0.56376385,  0.57841696,\n",
       "          0.59319534,  0.60810442,  0.62314992,  0.63833783,  0.65367443,\n",
       "          0.66916635,  0.68482057,  0.70064443,  0.71664571,  0.73283263,\n",
       "          0.74921388,  0.76579869,  0.78259687,  0.79961884,  0.81687572,\n",
       "          0.83437937,  0.85214246,  0.87017859,  0.88850233,  0.90712937,\n",
       "          0.92607659,  0.94536226,  0.96500611,  0.98502958,  1.005456  ,\n",
       "          1.02631079,  1.04762177,  1.06941949,  1.09173755,  1.11461308,\n",
       "          1.13808725,  1.1622059 ,  1.18702027,  1.21258791,  1.2389738 ,\n",
       "          1.26625169,  1.29450578,  1.32383285,  1.35434495,  1.38617282,\n",
       "          1.41947039,  1.45442067,  1.49124379,  1.53020786,  1.57164427,\n",
       "          1.61596971,  1.66371874,  1.71559368,  1.77254445,  1.83590295,\n",
       "          1.90762425,  1.99075721,  2.09047253,  2.21670641,  2.39300644,\n",
       "          2.70235077]),\n",
       "  array([-4.22083465, -2.43019479, -1.84551597, -1.82381517, -1.63615583,\n",
       "         -1.60622861, -1.56894681, -1.43019479, -1.40849399, -1.24253546,\n",
       "         -1.15528266, -1.08208264, -1.07429214, -1.05487612, -1.05259134,\n",
       "         -1.03317531, -1.03317531, -1.03317531, -0.864932  , -0.86216063,\n",
       "         -0.84887807, -0.84551597, -0.84045983, -0.83777614, -0.77611397,\n",
       "         -0.7377685 , -0.67221651, -0.63615583, -0.63615583, -0.62013891,\n",
       "         -0.60666453, -0.49574678, -0.4596861 , -0.44961082, -0.44683946,\n",
       "         -0.43019479, -0.43019479, -0.43019479, -0.42742343, -0.39793213,\n",
       "         -0.3247321 , -0.27582478, -0.26697061, -0.26697061, -0.26697061,\n",
       "         -0.25918012, -0.25918012, -0.25918012, -0.24253546, -0.24253546,\n",
       "         -0.23747931, -0.22083465, -0.20141863, -0.20141863, -0.1525113 ,\n",
       "         -0.1447208 , -0.13984413, -0.13707277, -0.1204281 , -0.1204281 ,\n",
       "         -0.1204281 , -0.11814332, -0.0987273 , -0.0987273 , -0.0987273 ,\n",
       "         -0.0987273 , -0.0909368 , -0.0909368 , -0.0770635 , -0.07429214,\n",
       "         -0.07429214, -0.07429214, -0.07152078, -0.07152078, -0.05764748,\n",
       "         -0.05487612, -0.05487612, -0.05487612, -0.05487612, -0.05487612,\n",
       "         -0.05487612, -0.05487612, -0.05487612, -0.05487612, -0.05487612,\n",
       "         -0.05487612, -0.05487612, -0.05487612, -0.05487612, -0.05487612,\n",
       "         -0.05487612, -0.05487612, -0.05487612, -0.05487612, -0.05487612,\n",
       "         -0.05487612, -0.05487612, -0.05487612, -0.05487612, -0.05487612,\n",
       "         -0.05487612, -0.05487612, -0.04981997, -0.03317531, -0.03317531,\n",
       "         -0.03317531, -0.03317531, -0.03317531, -0.03317531, -0.00596879,\n",
       "          0.03237668,  0.135068  ,  0.13783937,  0.13783937,  0.13783937,\n",
       "          0.13783937,  0.13783937,  0.13783937,  0.15448403,  0.15448403,\n",
       "          0.15448403,  0.15448403,  0.15448403,  0.15448403,  0.15448403,\n",
       "          0.15448403,  0.15448403,  0.15448403,  0.15448403,  0.15448403,\n",
       "          0.15448403,  0.15448403,  0.16499523,  0.16733067,  0.17278572,\n",
       "          0.17555709,  0.17618483,  0.18397533,  0.19220175,  0.20884641,\n",
       "          0.32272734,  0.32272734,  0.3360099 ,  0.34719951,  0.36044506,\n",
       "          0.36044506,  0.36384417,  0.36384417,  0.36384417,  0.36384417,\n",
       "          0.36384417,  0.36384417,  0.37158401,  0.38554498,  0.39610684,\n",
       "          0.4127515 ,  0.46313639,  0.474326  ,  0.474326  ,  0.51267146,\n",
       "          0.53145974,  0.5481044 ,  0.5481044 ,  0.55258216,  0.60148949,\n",
       "          0.6275667 ,  0.65477322,  0.68914119,  0.70855722,  0.72140386,\n",
       "          0.73263047,  0.74081988,  0.74081988,  0.74081988,  0.74350358,\n",
       "          0.74967405,  0.75746454,  0.75746454,  0.75746454,  0.75746454,\n",
       "          0.75746454,  0.78256446,  0.79518226,  0.81353333,  0.8552792 ,\n",
       "          0.94235252,  0.96682469,  0.96682469,  0.96682469,  0.96682469,\n",
       "          0.97505111,  0.99169577,  1.01573201,  1.05287135,  1.06190499,\n",
       "          1.17278572,  1.200657  ,  1.20884641,  1.21390255,  1.59490512,\n",
       "          2.59150601])),\n",
       " (0.6911202556686604, -5.430446919821466e-15, 0.9474712667800484))"
      ]
     },
     "execution_count": 22,
     "metadata": {},
     "output_type": "execute_result"
    },
    {
     "data": {
      "image/png": "[encoded data removed]",
      "text/plain": [
       "<Figure size 640x480 with 1 Axes>"
      ]
     },
     "metadata": {},
     "output_type": "display_data"
    }
   ],
   "source": [
    "#Generate a QQ plot.\n",
    "sts.probplot(lin_reg_1.resid, dist=\"norm\", plot=plt)"
   ]
  },
  {
   "cell_type": "markdown",
   "id": "6c94b6d4-cfb7-4dd3-8162-651fbf74e4f4",
   "metadata": {},
   "source": [
    "### Assessment of normality\n",
    "\n",
    "This looks mostly normal (that is, similar to the plot in the tutorial), but there are outliers on both ends. "
   ]
  },
  {
   "cell_type": "markdown",
   "id": "b5a69713-7717-4c4d-9559-22263329cf8f",
   "metadata": {},
   "source": [
    "## Assess your model's F-test and T-tests. "
   ]
  },
  {
   "cell_type": "code",
   "execution_count": 31,
   "id": "405be863-2078-435a-ab29-e06c5ce80f1a",
   "metadata": {},
   "outputs": [
    {
     "data": {
      "text/html": [
       "<table class=\"simpletable\">\n",
       "<caption>OLS Regression Results</caption>\n",
       "<tr>\n",
       "  <th>Dep. Variable:</th>       <td>intent1_01</td>    <th>  R-squared:         </th> <td>   0.497</td>\n",
       "</tr>\n",
       "<tr>\n",
       "  <th>Model:</th>                   <td>OLS</td>       <th>  Adj. R-squared:    </th> <td>   0.484</td>\n",
       "</tr>\n",
       "<tr>\n",
       "  <th>Method:</th>             <td>Least Squares</td>  <th>  F-statistic:       </th> <td>   38.58</td>\n",
       "</tr>\n",
       "<tr>\n",
       "  <th>Date:</th>             <td>Wed, 23 Apr 2025</td> <th>  Prob (F-statistic):</th> <td>1.99e-27</td>\n",
       "</tr>\n",
       "<tr>\n",
       "  <th>Time:</th>                 <td>10:52:55</td>     <th>  Log-Likelihood:    </th> <td> -219.55</td>\n",
       "</tr>\n",
       "<tr>\n",
       "  <th>No. Observations:</th>      <td>   201</td>      <th>  AIC:               </th> <td>   451.1</td>\n",
       "</tr>\n",
       "<tr>\n",
       "  <th>Df Residuals:</th>          <td>   195</td>      <th>  BIC:               </th> <td>   470.9</td>\n",
       "</tr>\n",
       "<tr>\n",
       "  <th>Df Model:</th>              <td>     5</td>      <th>                     </th>     <td> </td>   \n",
       "</tr>\n",
       "<tr>\n",
       "  <th>Covariance Type:</th>      <td>nonrobust</td>    <th>                     </th>     <td> </td>   \n",
       "</tr>\n",
       "</table>\n",
       "<table class=\"simpletable\">\n",
       "<tr>\n",
       "        <td></td>          <th>coef</th>     <th>std err</th>      <th>t</th>      <th>P>|t|</th>  <th>[0.025</th>    <th>0.975]</th>  \n",
       "</tr>\n",
       "<tr>\n",
       "  <th>Intercept</th>    <td>    1.3685</td> <td>    0.360</td> <td>    3.797</td> <td> 0.000</td> <td>    0.658</td> <td>    2.079</td>\n",
       "</tr>\n",
       "<tr>\n",
       "  <th>attitude1_01</th> <td>    0.4514</td> <td>    0.105</td> <td>    4.289</td> <td> 0.000</td> <td>    0.244</td> <td>    0.659</td>\n",
       "</tr>\n",
       "<tr>\n",
       "  <th>attitude1_02</th> <td>    0.1682</td> <td>    0.079</td> <td>    2.126</td> <td> 0.035</td> <td>    0.012</td> <td>    0.324</td>\n",
       "</tr>\n",
       "<tr>\n",
       "  <th>attitude1_03</th> <td>   -0.0656</td> <td>    0.103</td> <td>   -0.638</td> <td> 0.524</td> <td>   -0.268</td> <td>    0.137</td>\n",
       "</tr>\n",
       "<tr>\n",
       "  <th>attitude1_04</th> <td>    0.0489</td> <td>    0.103</td> <td>    0.477</td> <td> 0.634</td> <td>   -0.153</td> <td>    0.251</td>\n",
       "</tr>\n",
       "<tr>\n",
       "  <th>satis01</th>      <td>    0.2094</td> <td>    0.058</td> <td>    3.624</td> <td> 0.000</td> <td>    0.095</td> <td>    0.323</td>\n",
       "</tr>\n",
       "</table>\n",
       "<table class=\"simpletable\">\n",
       "<tr>\n",
       "  <th>Omnibus:</th>       <td>68.673</td> <th>  Durbin-Watson:     </th> <td>   1.947</td>\n",
       "</tr>\n",
       "<tr>\n",
       "  <th>Prob(Omnibus):</th> <td> 0.000</td> <th>  Jarque-Bera (JB):  </th> <td> 363.621</td>\n",
       "</tr>\n",
       "<tr>\n",
       "  <th>Skew:</th>          <td>-1.191</td> <th>  Prob(JB):          </th> <td>1.10e-79</td>\n",
       "</tr>\n",
       "<tr>\n",
       "  <th>Kurtosis:</th>      <td> 9.144</td> <th>  Cond. No.          </th> <td>    93.5</td>\n",
       "</tr>\n",
       "</table><br/><br/>Notes:<br/>[1] Standard Errors assume that the covariance matrix of the errors is correctly specified."
      ],
      "text/latex": [
       "\\begin{center}\n",
       "\\begin{tabular}{lclc}\n",
       "\\toprule\n",
       "\\textbf{Dep. Variable:}    &   intent1\\_01    & \\textbf{  R-squared:         } &     0.497   \\\\\n",
       "\\textbf{Model:}            &       OLS        & \\textbf{  Adj. R-squared:    } &     0.484   \\\\\n",
       "\\textbf{Method:}           &  Least Squares   & \\textbf{  F-statistic:       } &     38.58   \\\\\n",
       "\\textbf{Date:}             & Wed, 23 Apr 2025 & \\textbf{  Prob (F-statistic):} &  1.99e-27   \\\\\n",
       "\\textbf{Time:}             &     10:52:55     & \\textbf{  Log-Likelihood:    } &   -219.55   \\\\\n",
       "\\textbf{No. Observations:} &         201      & \\textbf{  AIC:               } &     451.1   \\\\\n",
       "\\textbf{Df Residuals:}     &         195      & \\textbf{  BIC:               } &     470.9   \\\\\n",
       "\\textbf{Df Model:}         &           5      & \\textbf{                     } &             \\\\\n",
       "\\textbf{Covariance Type:}  &    nonrobust     & \\textbf{                     } &             \\\\\n",
       "\\bottomrule\n",
       "\\end{tabular}\n",
       "\\begin{tabular}{lcccccc}\n",
       "                       & \\textbf{coef} & \\textbf{std err} & \\textbf{t} & \\textbf{P$> |$t$|$} & \\textbf{[0.025} & \\textbf{0.975]}  \\\\\n",
       "\\midrule\n",
       "\\textbf{Intercept}     &       1.3685  &        0.360     &     3.797  &         0.000        &        0.658    &        2.079     \\\\\n",
       "\\textbf{attitude1\\_01} &       0.4514  &        0.105     &     4.289  &         0.000        &        0.244    &        0.659     \\\\\n",
       "\\textbf{attitude1\\_02} &       0.1682  &        0.079     &     2.126  &         0.035        &        0.012    &        0.324     \\\\\n",
       "\\textbf{attitude1\\_03} &      -0.0656  &        0.103     &    -0.638  &         0.524        &       -0.268    &        0.137     \\\\\n",
       "\\textbf{attitude1\\_04} &       0.0489  &        0.103     &     0.477  &         0.634        &       -0.153    &        0.251     \\\\\n",
       "\\textbf{satis01}       &       0.2094  &        0.058     &     3.624  &         0.000        &        0.095    &        0.323     \\\\\n",
       "\\bottomrule\n",
       "\\end{tabular}\n",
       "\\begin{tabular}{lclc}\n",
       "\\textbf{Omnibus:}       & 68.673 & \\textbf{  Durbin-Watson:     } &    1.947  \\\\\n",
       "\\textbf{Prob(Omnibus):} &  0.000 & \\textbf{  Jarque-Bera (JB):  } &  363.621  \\\\\n",
       "\\textbf{Skew:}          & -1.191 & \\textbf{  Prob(JB):          } & 1.10e-79  \\\\\n",
       "\\textbf{Kurtosis:}      &  9.144 & \\textbf{  Cond. No.          } &     93.5  \\\\\n",
       "\\bottomrule\n",
       "\\end{tabular}\n",
       "%\\caption{OLS Regression Results}\n",
       "\\end{center}\n",
       "\n",
       "Notes: \\newline\n",
       " [1] Standard Errors assume that the covariance matrix of the errors is correctly specified."
      ],
      "text/plain": [
       "<class 'statsmodels.iolib.summary.Summary'>\n",
       "\"\"\"\n",
       "                            OLS Regression Results                            \n",
       "==============================================================================\n",
       "Dep. Variable:             intent1_01   R-squared:                       0.497\n",
       "Model:                            OLS   Adj. R-squared:                  0.484\n",
       "Method:                 Least Squares   F-statistic:                     38.58\n",
       "Date:                Wed, 23 Apr 2025   Prob (F-statistic):           1.99e-27\n",
       "Time:                        10:52:55   Log-Likelihood:                -219.55\n",
       "No. Observations:                 201   AIC:                             451.1\n",
       "Df Residuals:                     195   BIC:                             470.9\n",
       "Df Model:                           5                                         \n",
       "Covariance Type:            nonrobust                                         \n",
       "================================================================================\n",
       "                   coef    std err          t      P>|t|      [0.025      0.975]\n",
       "--------------------------------------------------------------------------------\n",
       "Intercept        1.3685      0.360      3.797      0.000       0.658       2.079\n",
       "attitude1_01     0.4514      0.105      4.289      0.000       0.244       0.659\n",
       "attitude1_02     0.1682      0.079      2.126      0.035       0.012       0.324\n",
       "attitude1_03    -0.0656      0.103     -0.638      0.524      -0.268       0.137\n",
       "attitude1_04     0.0489      0.103      0.477      0.634      -0.153       0.251\n",
       "satis01          0.2094      0.058      3.624      0.000       0.095       0.323\n",
       "==============================================================================\n",
       "Omnibus:                       68.673   Durbin-Watson:                   1.947\n",
       "Prob(Omnibus):                  0.000   Jarque-Bera (JB):              363.621\n",
       "Skew:                          -1.191   Prob(JB):                     1.10e-79\n",
       "Kurtosis:                       9.144   Cond. No.                         93.5\n",
       "==============================================================================\n",
       "\n",
       "Notes:\n",
       "[1] Standard Errors assume that the covariance matrix of the errors is correctly specified.\n",
       "\"\"\""
      ]
     },
     "execution_count": 31,
     "metadata": {},
     "output_type": "execute_result"
    }
   ],
   "source": [
    "# Use .summary() again to see our F- and T-test results. \n",
    "lin_reg_1.summary()"
   ]
  },
  {
   "cell_type": "markdown",
   "id": "0210b7f4-bb17-4b2e-a8a3-9326f57a050d",
   "metadata": {},
   "source": [
    "### Assessment\n",
    "\n",
    "F-Test:  \n",
    "F(5, 195) = 38.58 (p < .0001)  \n",
    "\n",
    "I believe this indicates that the overall model is significant! Ok, this is neat!  \n",
    "\n",
    "T-tests:  \n",
    "attitude1_01: t = 4.289 (p < .0001)  \n",
    "attitude1_02: t = 2.126 (p = 0.035)  \n",
    "attitude1_03: t = -0.638 (p = 0.524)  \n",
    "attitude1_04: t = 0.477 (p = 0.634)  \n",
    "satis01: t = 3.624 (p < .0001)  \n",
    "\n"
   ]
  },
  {
   "cell_type": "markdown",
   "id": "8c04ec35-9cc9-4813-8bde-fb55425c1182",
   "metadata": {},
   "source": [
    "#### Which variables are significant? Based on what assessment? \n",
    "\n",
    "I believe this means that attitude1_01, attitude1_02, and satis01 are all significant. This is based first on their p-values being less than 0.05. Based on the the t-tests, attitude1_01 has the most reliably predictive power at 4.289, followed by satis01 at 3.642 and attitude1_02 at 2.162. \n",
    "\n",
    "The remain variables - attitude1_03 and attitude1_04 - have p-values greater than 0.05 and low, in the case of attitude1_04, or negative, in the case of attitude1_03, t-value. "
   ]
  },
  {
   "cell_type": "markdown",
   "id": "f16b1ea4-5f65-4928-828d-12f2ace82515",
   "metadata": {},
   "source": [
    "#### Choose two significant variables. From a business perspective, why are they significant?\n",
    "\n",
    "I choose attitude1_01 and satis01 as they seem to be the the most statistically significant based on p-value and most reliably predictive based on the t-tests. From a business perspective, I am guessing that they are significant becuase we can, with some reliability predict taht if they increase, then intent1_01 will increase as well. This means that effort put into increasing whatever those independent variable represent will result in an increase in our target variable. "
   ]
  },
  {
   "cell_type": "markdown",
   "id": "a03d9c38-8c0e-450a-8aea-cee9f1e7e639",
   "metadata": {},
   "source": [
    "## Provide the equation for your model and interpret the results.\n",
    "\n",
    "Using the explanation you provided to me:\n",
    "\n",
    "intent1_01 = 1.3685 + 0.45 attitude1_01 + 0.17 attitude1_02 - 0.07 attitude1_03 + 0.05 attitude1_04 + 0.21 satis01  \n",
    "\n",
    "So:  \n",
    "\n",
    "If attitude1_01 increases by 1, intent1_01 will increase by 0.45.  \n",
    "If attitude1_02 increases by 1, intent1_01 will increase by 0.17.  \n",
    "If attitude1_03 increases by 1, intent1_01 will decrease by 0.07.  \n",
    "If attitude1_04 increases by 1, intent1_01 will increase by 0.05.  \n",
    "If satis01 increases by 1, intent1_01 will increase by 0.21.  \n",
    "\n",
    "Right?  \n",
    "\n",
    "Or, should I leave out attitude1_03 and attitude1_04 since their p-values indicated they were not significant and the t-test values were low?  \n",
    "\n",
    "If that is the case, then:  \n",
    "\n",
    "intent1_01 = 1.3685 + 0.45 attitude1_01 + 0.17 attitude1_02 + 0.21 satis01  \n",
    "\n",
    "If attitude1_01 increases by 1, intent1_01 will increase by 0.45.  \n",
    "If attitude1_02 increases by 1, intent1_01 will increase by 0.17.  \n",
    "If satis01 increases by 1, intent1_01 will increase by 0.21.  \n"
   ]
  },
  {
   "cell_type": "markdown",
   "id": "ad8fb777-dd37-4501-9497-a89c4443e4fb",
   "metadata": {},
   "source": [
    "# References"
   ]
  },
  {
   "cell_type": "markdown",
   "id": "6a27d22b-9ad1-4fa1-99c6-4be887b5d35e",
   "metadata": {},
   "source": [
    "This ChatGPT exchange was used to interpret the results of the Pearson test:  \n",
    "\n",
    "<div><center><img src = \"Assets/pearsonR_ChatGPT.png\"></center></div>  \n",
    "\n",
    "\n",
    "\n",
    "This exchange was used when assessing homoscedasticity:  \n",
    "\n",
    "<div><center><img src = \"Assets/homoscedasticity_ChatGPT.png\"></center></div>  \n",
    "\n",
    "And of course, your answers to my questions: 09_Supplement_TroyQs.pdf\n",
    "\n",
    "[Open the PDF](Assets/09_Supplement_TroyQs.pdf)\n",
    "\n"
   ]
  },
  {
   "cell_type": "code",
   "execution_count": null,
   "id": "e7512fae-09df-4b1f-b9ff-8fadbc36a981",
   "metadata": {},
   "outputs": [],
   "source": []
  }
 ],
 "metadata": {
  "kernelspec": {
   "display_name": "Python 3 (ipykernel)",
   "language": "python",
   "name": "python3"
  },
  "language_info": {
   "codemirror_mode": {
    "name": "ipython",
    "version": 3
   },
   "file_extension": ".py",
   "mimetype": "text/x-python",
   "name": "python",
   "nbconvert_exporter": "python",
   "pygments_lexer": "ipython3",
   "version": "3.12.7"
  }
 },
 "nbformat": 4,
 "nbformat_minor": 5
}
