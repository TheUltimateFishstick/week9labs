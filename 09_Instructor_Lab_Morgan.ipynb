{
 "cells": [
  {
   "cell_type": "markdown",
   "id": "200f45c2-909a-4da4-ba85-42c1504ff304",
   "metadata": {},
   "source": [
    "Troy Morgan  \n",
    "Week 9 Instructor-Led Lab  \n",
    "BGEN 632, Graduate Introduction to Python  \n",
    "Submitted 4/21/25\n",
    "\n",
    "Instructor-led Lab: Descriptive Statistics"
   ]
  },
  {
   "cell_type": "markdown",
   "id": "dac7dcf8-b3ac-4bde-a707-21c353c65794",
   "metadata": {},
   "source": [
    "# Notebook Setup"
   ]
  },
  {
   "cell_type": "code",
   "execution_count": 1,
   "id": "9313d3f0-e11d-4ae5-b9a9-556f13e02254",
   "metadata": {},
   "outputs": [],
   "source": [
    "# load modules\n",
    "import os\n",
    "import pandas as pd\n",
    "import numpy as np\n",
    "import matplotlib.pyplot as plt\n",
    "import scipy.stats as sts # for QQ plot\n",
    "from scipy.stats import pearsonr # correlation p-values\n",
    "from sklearn.linear_model import LinearRegression # regression output\n",
    "import statsmodels.formula.api as smf # ols regression"
   ]
  },
  {
   "cell_type": "code",
   "execution_count": 2,
   "id": "0bc3b88f-1a2e-4646-99dc-81bf9f376aa3",
   "metadata": {},
   "outputs": [
    {
     "data": {
      "text/plain": [
       "'C:\\\\Users\\\\troy.morgan\\\\Documents\\\\GitHub\\\\week9labs\\\\data'"
      ]
     },
     "execution_count": 2,
     "metadata": {},
     "output_type": "execute_result"
    }
   ],
   "source": [
    "# Set working directory\n",
    "os.chdir(\"\\\\Users\\\\troy.morgan\\\\Documents\\\\GitHub\\\\week9labs/data\")  # change this to your filepath\n",
    "os.getcwd()  # confirm change"
   ]
  },
  {
   "cell_type": "code",
   "execution_count": 6,
   "id": "08deb509-f6f5-4060-9796-aad6892c8019",
   "metadata": {},
   "outputs": [
    {
     "name": "stdout",
     "output_type": "stream",
     "text": [
      "<class 'pandas.core.frame.DataFrame'>\n",
      "RangeIndex: 61 entries, 0 to 60\n",
      "Data columns (total 14 columns):\n",
      " #   Column       Non-Null Count  Dtype  \n",
      "---  ------       --------------  -----  \n",
      " 0   HospitalID   61 non-null     int64  \n",
      " 1   Name         61 non-null     object \n",
      " 2   Zip          61 non-null     object \n",
      " 3   Website      61 non-null     object \n",
      " 4   TypeControl  61 non-null     object \n",
      " 5   Teaching     61 non-null     object \n",
      " 6   DonorType    61 non-null     object \n",
      " 7   NoFTE        61 non-null     float64\n",
      " 8   NetPatRev    61 non-null     float64\n",
      " 9   InOperExp    61 non-null     float64\n",
      " 10  OutOperExp   61 non-null     float64\n",
      " 11  OperRev      61 non-null     int64  \n",
      " 12  OperInc      61 non-null     int64  \n",
      " 13  AvlBeds      61 non-null     int64  \n",
      "dtypes: float64(4), int64(4), object(6)\n",
      "memory usage: 6.8+ KB\n"
     ]
    }
   ],
   "source": [
    "# Load California hospital data and do a quick inspection. \n",
    "Cali_Hospital_Data = pd.read_table(\"CaliforniaHospitalData.csv\", delimiter=',')\n",
    "Cali_Hospital_Data.info()"
   ]
  },
  {
   "cell_type": "code",
   "execution_count": 4,
   "id": "70ed2516-bc4d-408f-a1cc-138a6819a724",
   "metadata": {},
   "outputs": [
    {
     "name": "stdout",
     "output_type": "stream",
     "text": [
      "<class 'pandas.core.frame.DataFrame'>\n",
      "RangeIndex: 64 entries, 0 to 63\n",
      "Data columns (total 12 columns):\n",
      " #   Column         Non-Null Count  Dtype \n",
      "---  ------         --------------  ----- \n",
      " 0   HospitalID     64 non-null     int64 \n",
      " 1   Work_ID        64 non-null     int64 \n",
      " 2   LastName       64 non-null     object\n",
      " 3   FirstName      64 non-null     object\n",
      " 4   Gender         64 non-null     object\n",
      " 5   PositionID     64 non-null     int64 \n",
      " 6   PositionTitle  64 non-null     object\n",
      " 7   Compensation   64 non-null     int64 \n",
      " 8   MaxTerm        64 non-null     int64 \n",
      " 9   StartDate      64 non-null     object\n",
      " 10  Phone          64 non-null     object\n",
      " 11  Email          64 non-null     object\n",
      "dtypes: int64(5), object(7)\n",
      "memory usage: 6.1+ KB\n"
     ]
    }
   ],
   "source": [
    "# Load California hospital personnel data and do a quick inspection.\n",
    "Cali_Hospital_Personnel = pd.read_table(\"CaliforniaHospitalData_Personnel.txt\", delimiter='\\t')\n",
    "Cali_Hospital_Personnel.info()"
   ]
  },
  {
   "cell_type": "markdown",
   "id": "91e6d99a-1ac0-4258-993d-d29e762048e5",
   "metadata": {},
   "source": [
    "## Prep Data and Add A New Record"
   ]
  },
  {
   "cell_type": "code",
   "execution_count": 10,
   "id": "28917838-5551-4720-8931-4c6f96e4cb6c",
   "metadata": {},
   "outputs": [
    {
     "name": "stdout",
     "output_type": "stream",
     "text": [
      "<class 'pandas.core.frame.DataFrame'>\n",
      "RangeIndex: 61 entries, 0 to 60\n",
      "Data columns (total 25 columns):\n",
      " #   Column         Non-Null Count  Dtype  \n",
      "---  ------         --------------  -----  \n",
      " 0   HospitalID     61 non-null     int64  \n",
      " 1   Name           61 non-null     object \n",
      " 2   Zip            61 non-null     object \n",
      " 3   Website        61 non-null     object \n",
      " 4   TypeControl    61 non-null     object \n",
      " 5   Teaching       61 non-null     object \n",
      " 6   DonorType      61 non-null     object \n",
      " 7   NoFTE          61 non-null     float64\n",
      " 8   NetPatRev      61 non-null     float64\n",
      " 9   InOperExp      61 non-null     float64\n",
      " 10  OutOperExp     61 non-null     float64\n",
      " 11  OperRev        61 non-null     int64  \n",
      " 12  OperInc        61 non-null     int64  \n",
      " 13  AvlBeds        61 non-null     int64  \n",
      " 14  Work_ID        61 non-null     int64  \n",
      " 15  LastName       61 non-null     object \n",
      " 16  FirstName      61 non-null     object \n",
      " 17  Gender         61 non-null     object \n",
      " 18  PositionID     61 non-null     int64  \n",
      " 19  PositionTitle  61 non-null     object \n",
      " 20  Compensation   61 non-null     int64  \n",
      " 21  MaxTerm        61 non-null     int64  \n",
      " 22  StartDate      61 non-null     object \n",
      " 23  Phone          61 non-null     object \n",
      " 24  Email          61 non-null     object \n",
      "dtypes: float64(4), int64(8), object(13)\n",
      "memory usage: 12.0+ KB\n"
     ]
    }
   ],
   "source": [
    "# Merge the two data files and do quick inspection.\n",
    "merged_CH_data = Cali_Hospital_Data.merge(Cali_Hospital_Personnel, how = 'left', on = 'HospitalID')\n",
    "merged_CH_data.info()"
   ]
  },
  {
   "cell_type": "code",
   "execution_count": 13,
   "id": "ac9048d1-652c-49a9-8284-d1a76863a5b2",
   "metadata": {},
   "outputs": [
    {
     "name": "stdout",
     "output_type": "stream",
     "text": [
      "<class 'pandas.core.frame.DataFrame'>\n",
      "RangeIndex: 61 entries, 0 to 60\n",
      "Data columns (total 22 columns):\n",
      " #   Column         Non-Null Count  Dtype  \n",
      "---  ------         --------------  -----  \n",
      " 0   HospitalID     61 non-null     int64  \n",
      " 1   Name           61 non-null     object \n",
      " 2   Zip            61 non-null     object \n",
      " 3   TypeControl    61 non-null     object \n",
      " 4   Teaching       61 non-null     object \n",
      " 5   DonorType      61 non-null     object \n",
      " 6   NoFTE          61 non-null     float64\n",
      " 7   NetPatRev      61 non-null     float64\n",
      " 8   InOperExp      61 non-null     float64\n",
      " 9   OutOperExp     61 non-null     float64\n",
      " 10  OperRev        61 non-null     int64  \n",
      " 11  OperInc        61 non-null     int64  \n",
      " 12  AvlBeds        61 non-null     int64  \n",
      " 13  LastName       61 non-null     object \n",
      " 14  FirstName      61 non-null     object \n",
      " 15  Gender         61 non-null     object \n",
      " 16  PositionTitle  61 non-null     object \n",
      " 17  Compensation   61 non-null     int64  \n",
      " 18  MaxTerm        61 non-null     int64  \n",
      " 19  StartDate      61 non-null     object \n",
      " 20  Phone          61 non-null     object \n",
      " 21  Email          61 non-null     object \n",
      "dtypes: float64(4), int64(6), object(12)\n",
      "memory usage: 10.6+ KB\n"
     ]
    }
   ],
   "source": [
    "# Remove the following columns of data: `Work_ID`, `PositionID`, `Website` and quick inspection.\n",
    "merged_CH_data_mod = merged_CH_data.drop(['Work_ID', 'PositionID', 'Website'], axis = 1)\n",
    "merged_CH_data_mod.info()"
   ]
  },
  {
   "cell_type": "code",
   "execution_count": 20,
   "id": "a3e74d69-ab73-45f2-8e54-36dc7591bc5d",
   "metadata": {},
   "outputs": [
    {
     "data": {
      "text/html": [
       "<div>\n",
       "<style scoped>\n",
       "    .dataframe tbody tr th:only-of-type {\n",
       "        vertical-align: middle;\n",
       "    }\n",
       "\n",
       "    .dataframe tbody tr th {\n",
       "        vertical-align: top;\n",
       "    }\n",
       "\n",
       "    .dataframe thead th {\n",
       "        text-align: right;\n",
       "    }\n",
       "</style>\n",
       "<table border=\"1\" class=\"dataframe\">\n",
       "  <thead>\n",
       "    <tr style=\"text-align: right;\">\n",
       "      <th></th>\n",
       "      <th>HospitalID</th>\n",
       "      <th>Name</th>\n",
       "      <th>Zip</th>\n",
       "      <th>TypeControl</th>\n",
       "      <th>Teaching</th>\n",
       "      <th>DonorType</th>\n",
       "      <th>NoFTE</th>\n",
       "      <th>NetPatRev</th>\n",
       "      <th>InOperExp</th>\n",
       "      <th>OutOperExp</th>\n",
       "      <th>...</th>\n",
       "      <th>AvlBeds</th>\n",
       "      <th>LastName</th>\n",
       "      <th>FirstName</th>\n",
       "      <th>Gender</th>\n",
       "      <th>PositionTitle</th>\n",
       "      <th>Compensation</th>\n",
       "      <th>MaxTerm</th>\n",
       "      <th>StartDate</th>\n",
       "      <th>Phone</th>\n",
       "      <th>Email</th>\n",
       "    </tr>\n",
       "  </thead>\n",
       "  <tbody>\n",
       "    <tr>\n",
       "      <th>0</th>\n",
       "      <td>45740</td>\n",
       "      <td>Mammoth Hospital</td>\n",
       "      <td>93546-0660</td>\n",
       "      <td>District</td>\n",
       "      <td>Small/Rural</td>\n",
       "      <td>Charity</td>\n",
       "      <td>327.0</td>\n",
       "      <td>135520.2186</td>\n",
       "      <td>20523425.53</td>\n",
       "      <td>34916220.47</td>\n",
       "      <td>...</td>\n",
       "      <td>15</td>\n",
       "      <td>Web</td>\n",
       "      <td>David</td>\n",
       "      <td>M</td>\n",
       "      <td>Safety Inspection Member</td>\n",
       "      <td>23987</td>\n",
       "      <td>2</td>\n",
       "      <td>1/1/2012</td>\n",
       "      <td>785-532-2452</td>\n",
       "      <td>david.web@comenitymed.com</td>\n",
       "    </tr>\n",
       "  </tbody>\n",
       "</table>\n",
       "<p>1 rows × 22 columns</p>\n",
       "</div>"
      ],
      "text/plain": [
       "   HospitalID              Name         Zip TypeControl     Teaching  \\\n",
       "0       45740  Mammoth Hospital  93546-0660    District  Small/Rural   \n",
       "\n",
       "  DonorType  NoFTE    NetPatRev    InOperExp   OutOperExp  ...  AvlBeds  \\\n",
       "0   Charity  327.0  135520.2186  20523425.53  34916220.47  ...       15   \n",
       "\n",
       "   LastName  FirstName Gender             PositionTitle Compensation MaxTerm  \\\n",
       "0       Web      David      M  Safety Inspection Member        23987       2   \n",
       "\n",
       "   StartDate         Phone                      Email  \n",
       "0   1/1/2012  785-532-2452  david.web@comenitymed.com  \n",
       "\n",
       "[1 rows x 22 columns]"
      ]
     },
     "execution_count": 20,
     "metadata": {},
     "output_type": "execute_result"
    }
   ],
   "source": [
    "# Create new position for myself. I am using the same method I used in the Week 7 Independent Lab.\n",
    "\n",
    "# Create a new DataFrame selecting an existing hospital and inspect.\n",
    "new_record = pd.DataFrame(merged_CH_data_mod.iloc[[0], :])\n",
    "new_record"
   ]
  },
  {
   "cell_type": "code",
   "execution_count": 22,
   "id": "eb8b98b1-f324-4df4-976b-cea9f57a5896",
   "metadata": {},
   "outputs": [
    {
     "data": {
      "text/html": [
       "<div>\n",
       "<style scoped>\n",
       "    .dataframe tbody tr th:only-of-type {\n",
       "        vertical-align: middle;\n",
       "    }\n",
       "\n",
       "    .dataframe tbody tr th {\n",
       "        vertical-align: top;\n",
       "    }\n",
       "\n",
       "    .dataframe thead th {\n",
       "        text-align: right;\n",
       "    }\n",
       "</style>\n",
       "<table border=\"1\" class=\"dataframe\">\n",
       "  <thead>\n",
       "    <tr style=\"text-align: right;\">\n",
       "      <th></th>\n",
       "      <th>HospitalID</th>\n",
       "      <th>Name</th>\n",
       "      <th>Zip</th>\n",
       "      <th>TypeControl</th>\n",
       "      <th>Teaching</th>\n",
       "      <th>DonorType</th>\n",
       "      <th>NoFTE</th>\n",
       "      <th>NetPatRev</th>\n",
       "      <th>InOperExp</th>\n",
       "      <th>OutOperExp</th>\n",
       "      <th>...</th>\n",
       "      <th>AvlBeds</th>\n",
       "      <th>LastName</th>\n",
       "      <th>FirstName</th>\n",
       "      <th>Gender</th>\n",
       "      <th>PositionTitle</th>\n",
       "      <th>Compensation</th>\n",
       "      <th>MaxTerm</th>\n",
       "      <th>StartDate</th>\n",
       "      <th>Phone</th>\n",
       "      <th>Email</th>\n",
       "    </tr>\n",
       "  </thead>\n",
       "  <tbody>\n",
       "    <tr>\n",
       "      <th>0</th>\n",
       "      <td>45740</td>\n",
       "      <td>Mammoth Hospital</td>\n",
       "      <td>93546-0660</td>\n",
       "      <td>District</td>\n",
       "      <td>Small/Rural</td>\n",
       "      <td>Charity</td>\n",
       "      <td>327.0</td>\n",
       "      <td>135520.2186</td>\n",
       "      <td>20523425.53</td>\n",
       "      <td>34916220.47</td>\n",
       "      <td>...</td>\n",
       "      <td>15</td>\n",
       "      <td>Morgan</td>\n",
       "      <td>Troy</td>\n",
       "      <td>M</td>\n",
       "      <td>Safety Inspection Member</td>\n",
       "      <td>23987</td>\n",
       "      <td>2</td>\n",
       "      <td>4/21/2025</td>\n",
       "      <td>406-243-2262</td>\n",
       "      <td>super_rad_inspector@gmail.com</td>\n",
       "    </tr>\n",
       "  </tbody>\n",
       "</table>\n",
       "<p>1 rows × 22 columns</p>\n",
       "</div>"
      ],
      "text/plain": [
       "   HospitalID              Name         Zip TypeControl     Teaching  \\\n",
       "0       45740  Mammoth Hospital  93546-0660    District  Small/Rural   \n",
       "\n",
       "  DonorType  NoFTE    NetPatRev    InOperExp   OutOperExp  ...  AvlBeds  \\\n",
       "0   Charity  327.0  135520.2186  20523425.53  34916220.47  ...       15   \n",
       "\n",
       "   LastName  FirstName Gender             PositionTitle Compensation MaxTerm  \\\n",
       "0    Morgan       Troy      M  Safety Inspection Member        23987       2   \n",
       "\n",
       "   StartDate         Phone                          Email  \n",
       "0  4/21/2025  406-243-2262  super_rad_inspector@gmail.com  \n",
       "\n",
       "[1 rows x 22 columns]"
      ]
     },
     "execution_count": 22,
     "metadata": {},
     "output_type": "execute_result"
    }
   ],
   "source": [
    "# Update the employee information with new information as instructed and inspect.\n",
    "new_record.iloc[[0], 13:22] = ('Morgan', 'Troy', 'M', 'Safety Inspection Member', '23987', '2', '4/21/2025', '406-243-2262', 'super_rad_inspector@gmail.com')\n",
    "new_record"
   ]
  },
  {
   "cell_type": "code",
   "execution_count": 30,
   "id": "40c8c811-82c3-4d70-99c5-225990664f1d",
   "metadata": {},
   "outputs": [
    {
     "data": {
      "text/html": [
       "<div>\n",
       "<style scoped>\n",
       "    .dataframe tbody tr th:only-of-type {\n",
       "        vertical-align: middle;\n",
       "    }\n",
       "\n",
       "    .dataframe tbody tr th {\n",
       "        vertical-align: top;\n",
       "    }\n",
       "\n",
       "    .dataframe thead th {\n",
       "        text-align: right;\n",
       "    }\n",
       "</style>\n",
       "<table border=\"1\" class=\"dataframe\">\n",
       "  <thead>\n",
       "    <tr style=\"text-align: right;\">\n",
       "      <th></th>\n",
       "      <th>HospitalID</th>\n",
       "      <th>Name</th>\n",
       "      <th>Zip</th>\n",
       "      <th>TypeControl</th>\n",
       "      <th>Teaching</th>\n",
       "      <th>DonorType</th>\n",
       "      <th>NoFTE</th>\n",
       "      <th>NetPatRev</th>\n",
       "      <th>InOperExp</th>\n",
       "      <th>OutOperExp</th>\n",
       "      <th>...</th>\n",
       "      <th>AvlBeds</th>\n",
       "      <th>LastName</th>\n",
       "      <th>FirstName</th>\n",
       "      <th>Gender</th>\n",
       "      <th>PositionTitle</th>\n",
       "      <th>Compensation</th>\n",
       "      <th>MaxTerm</th>\n",
       "      <th>StartDate</th>\n",
       "      <th>Phone</th>\n",
       "      <th>Email</th>\n",
       "    </tr>\n",
       "  </thead>\n",
       "  <tbody>\n",
       "    <tr>\n",
       "      <th>57</th>\n",
       "      <td>31032</td>\n",
       "      <td>Long Beach Memorial &amp; Miller Children's Hospital</td>\n",
       "      <td>90806</td>\n",
       "      <td>Non Profit</td>\n",
       "      <td>Teaching</td>\n",
       "      <td>Alumni</td>\n",
       "      <td>5218.0</td>\n",
       "      <td>1.187022e+06</td>\n",
       "      <td>2.912481e+08</td>\n",
       "      <td>1.093286e+08</td>\n",
       "      <td>...</td>\n",
       "      <td>462</td>\n",
       "      <td>Dong</td>\n",
       "      <td>HongWei</td>\n",
       "      <td>F</td>\n",
       "      <td>Safety Inspection Member</td>\n",
       "      <td>23987</td>\n",
       "      <td>2</td>\n",
       "      <td>1/1/2012</td>\n",
       "      <td>479-354-4864</td>\n",
       "      <td>hongwei.dong@brokenhealth.com</td>\n",
       "    </tr>\n",
       "    <tr>\n",
       "      <th>58</th>\n",
       "      <td>22460</td>\n",
       "      <td>Stanford Hospital &amp; Clinics</td>\n",
       "      <td>94305</td>\n",
       "      <td>Non Profit</td>\n",
       "      <td>Teaching</td>\n",
       "      <td>Alumni</td>\n",
       "      <td>6392.0</td>\n",
       "      <td>4.333934e+06</td>\n",
       "      <td>9.289621e+08</td>\n",
       "      <td>6.621559e+08</td>\n",
       "      <td>...</td>\n",
       "      <td>445</td>\n",
       "      <td>Smith</td>\n",
       "      <td>Mary</td>\n",
       "      <td>F</td>\n",
       "      <td>Safety Inspection Member</td>\n",
       "      <td>23987</td>\n",
       "      <td>2</td>\n",
       "      <td>1/1/2012</td>\n",
       "      <td>469-767-5485</td>\n",
       "      <td>mary.smith@ihc.com</td>\n",
       "    </tr>\n",
       "    <tr>\n",
       "      <th>59</th>\n",
       "      <td>33192</td>\n",
       "      <td>California Pacific Medical Center - Pacific Ca...</td>\n",
       "      <td>94115</td>\n",
       "      <td>Non Profit</td>\n",
       "      <td>Teaching</td>\n",
       "      <td>Alumni</td>\n",
       "      <td>1565.1</td>\n",
       "      <td>2.736281e+06</td>\n",
       "      <td>6.337903e+08</td>\n",
       "      <td>2.960207e+08</td>\n",
       "      <td>...</td>\n",
       "      <td>730</td>\n",
       "      <td>Fourier</td>\n",
       "      <td>Craig</td>\n",
       "      <td>M</td>\n",
       "      <td>Regional Representative</td>\n",
       "      <td>46978</td>\n",
       "      <td>4</td>\n",
       "      <td>1/1/2011</td>\n",
       "      <td>503-235-4877</td>\n",
       "      <td>craig.fourier@comenitymed.com</td>\n",
       "    </tr>\n",
       "    <tr>\n",
       "      <th>60</th>\n",
       "      <td>38900</td>\n",
       "      <td>Cedars-Sinai Medical Center</td>\n",
       "      <td>90048</td>\n",
       "      <td>Non Profit</td>\n",
       "      <td>Teaching</td>\n",
       "      <td>Alumni</td>\n",
       "      <td>8000.0</td>\n",
       "      <td>4.662582e+06</td>\n",
       "      <td>1.285631e+09</td>\n",
       "      <td>4.616758e+08</td>\n",
       "      <td>...</td>\n",
       "      <td>909</td>\n",
       "      <td>Paanua</td>\n",
       "      <td>Kaaluai</td>\n",
       "      <td>M</td>\n",
       "      <td>Regional Representative</td>\n",
       "      <td>46978</td>\n",
       "      <td>4</td>\n",
       "      <td>1/1/2011</td>\n",
       "      <td>479-684-1883</td>\n",
       "      <td>kaaluai.paanua@brokenhealth.com</td>\n",
       "    </tr>\n",
       "    <tr>\n",
       "      <th>61</th>\n",
       "      <td>45740</td>\n",
       "      <td>Mammoth Hospital</td>\n",
       "      <td>93546-0660</td>\n",
       "      <td>District</td>\n",
       "      <td>Small/Rural</td>\n",
       "      <td>Charity</td>\n",
       "      <td>327.0</td>\n",
       "      <td>1.355202e+05</td>\n",
       "      <td>2.052343e+07</td>\n",
       "      <td>3.491622e+07</td>\n",
       "      <td>...</td>\n",
       "      <td>15</td>\n",
       "      <td>Morgan</td>\n",
       "      <td>Troy</td>\n",
       "      <td>M</td>\n",
       "      <td>Safety Inspection Member</td>\n",
       "      <td>23987</td>\n",
       "      <td>2</td>\n",
       "      <td>4/21/2025</td>\n",
       "      <td>406-243-2262</td>\n",
       "      <td>super_rad_inspector@gmail.com</td>\n",
       "    </tr>\n",
       "  </tbody>\n",
       "</table>\n",
       "<p>5 rows × 22 columns</p>\n",
       "</div>"
      ],
      "text/plain": [
       "    HospitalID                                               Name         Zip  \\\n",
       "57       31032   Long Beach Memorial & Miller Children's Hospital       90806   \n",
       "58       22460                        Stanford Hospital & Clinics       94305   \n",
       "59       33192  California Pacific Medical Center - Pacific Ca...       94115   \n",
       "60       38900                        Cedars-Sinai Medical Center       90048   \n",
       "61       45740                                   Mammoth Hospital  93546-0660   \n",
       "\n",
       "   TypeControl     Teaching DonorType   NoFTE     NetPatRev     InOperExp  \\\n",
       "57  Non Profit     Teaching    Alumni  5218.0  1.187022e+06  2.912481e+08   \n",
       "58  Non Profit     Teaching    Alumni  6392.0  4.333934e+06  9.289621e+08   \n",
       "59  Non Profit     Teaching    Alumni  1565.1  2.736281e+06  6.337903e+08   \n",
       "60  Non Profit     Teaching    Alumni  8000.0  4.662582e+06  1.285631e+09   \n",
       "61    District  Small/Rural   Charity   327.0  1.355202e+05  2.052343e+07   \n",
       "\n",
       "      OutOperExp  ...  AvlBeds  LastName  FirstName Gender  \\\n",
       "57  1.093286e+08  ...      462      Dong    HongWei      F   \n",
       "58  6.621559e+08  ...      445     Smith       Mary      F   \n",
       "59  2.960207e+08  ...      730   Fourier      Craig      M   \n",
       "60  4.616758e+08  ...      909    Paanua    Kaaluai      M   \n",
       "61  3.491622e+07  ...       15    Morgan       Troy      M   \n",
       "\n",
       "               PositionTitle Compensation MaxTerm  StartDate         Phone  \\\n",
       "57  Safety Inspection Member        23987       2   1/1/2012  479-354-4864   \n",
       "58  Safety Inspection Member        23987       2   1/1/2012  469-767-5485   \n",
       "59   Regional Representative        46978       4   1/1/2011  503-235-4877   \n",
       "60   Regional Representative        46978       4   1/1/2011  479-684-1883   \n",
       "61  Safety Inspection Member        23987       2  4/21/2025  406-243-2262   \n",
       "\n",
       "                              Email  \n",
       "57    hongwei.dong@brokenhealth.com  \n",
       "58               mary.smith@ihc.com  \n",
       "59    craig.fourier@comenitymed.com  \n",
       "60  kaaluai.paanua@brokenhealth.com  \n",
       "61    super_rad_inspector@gmail.com  \n",
       "\n",
       "[5 rows x 22 columns]"
      ]
     },
     "execution_count": 30,
     "metadata": {},
     "output_type": "execute_result"
    }
   ],
   "source": [
    "# Concatenate merged_CH_data_mod and new_record into a new DataFrame and inspect.\n",
    "CH_Data_New = pd.concat([merged_CH_data_mod, new_record], ignore_index = True)\n",
    "CH_Data_New.tail()"
   ]
  },
  {
   "cell_type": "code",
   "execution_count": 31,
   "id": "b93d12dc-e266-4859-8191-bb0e2759221f",
   "metadata": {},
   "outputs": [
    {
     "name": "stdout",
     "output_type": "stream",
     "text": [
      "<class 'pandas.core.frame.DataFrame'>\n",
      "RangeIndex: 62 entries, 0 to 61\n",
      "Data columns (total 22 columns):\n",
      " #   Column         Non-Null Count  Dtype         \n",
      "---  ------         --------------  -----         \n",
      " 0   HospitalID     62 non-null     int64         \n",
      " 1   Name           62 non-null     object        \n",
      " 2   Zip            62 non-null     object        \n",
      " 3   TypeControl    62 non-null     object        \n",
      " 4   Teaching       62 non-null     object        \n",
      " 5   DonorType      62 non-null     object        \n",
      " 6   NoFTE          62 non-null     float64       \n",
      " 7   NetPatRev      62 non-null     float64       \n",
      " 8   InOperExp      62 non-null     float64       \n",
      " 9   OutOperExp     62 non-null     float64       \n",
      " 10  OperRev        62 non-null     int64         \n",
      " 11  OperInc        62 non-null     int64         \n",
      " 12  AvlBeds        62 non-null     int64         \n",
      " 13  LastName       62 non-null     object        \n",
      " 14  FirstName      62 non-null     object        \n",
      " 15  Gender         62 non-null     object        \n",
      " 16  PositionTitle  62 non-null     object        \n",
      " 17  Compensation   62 non-null     object        \n",
      " 18  MaxTerm        62 non-null     object        \n",
      " 19  StartDate      62 non-null     datetime64[ns]\n",
      " 20  Phone          62 non-null     object        \n",
      " 21  Email          62 non-null     object        \n",
      "dtypes: datetime64[ns](1), float64(4), int64(4), object(13)\n",
      "memory usage: 10.8+ KB\n"
     ]
    }
   ],
   "source": [
    "#Convert any date-time columns into a datetime data type and inspect.\n",
    "CH_Data_New['StartDate'] = pd.to_datetime(CH_Data_New['StartDate'])\n",
    "CH_Data_New.info()"
   ]
  },
  {
   "cell_type": "code",
   "execution_count": 32,
   "id": "66a8f8bb-b6ef-442d-bd15-4c000f81eb8b",
   "metadata": {},
   "outputs": [
    {
     "name": "stdout",
     "output_type": "stream",
     "text": [
      "<class 'pandas.core.frame.DataFrame'>\n",
      "RangeIndex: 62 entries, 0 to 61\n",
      "Data columns (total 22 columns):\n",
      " #   Column         Non-Null Count  Dtype         \n",
      "---  ------         --------------  -----         \n",
      " 0   HospitalID     62 non-null     int64         \n",
      " 1   Name           62 non-null     object        \n",
      " 2   Zip            62 non-null     object        \n",
      " 3   TypeControl    62 non-null     category      \n",
      " 4   Teaching       62 non-null     category      \n",
      " 5   DonorType      62 non-null     category      \n",
      " 6   NoFTE          62 non-null     float64       \n",
      " 7   NetPatRev      62 non-null     float64       \n",
      " 8   InOperExp      62 non-null     float64       \n",
      " 9   OutOperExp     62 non-null     float64       \n",
      " 10  OperRev        62 non-null     int64         \n",
      " 11  OperInc        62 non-null     int64         \n",
      " 12  AvlBeds        62 non-null     int64         \n",
      " 13  LastName       62 non-null     object        \n",
      " 14  FirstName      62 non-null     object        \n",
      " 15  Gender         62 non-null     category      \n",
      " 16  PositionTitle  62 non-null     category      \n",
      " 17  Compensation   62 non-null     object        \n",
      " 18  MaxTerm        62 non-null     object        \n",
      " 19  StartDate      62 non-null     datetime64[ns]\n",
      " 20  Phone          62 non-null     object        \n",
      " 21  Email          62 non-null     object        \n",
      "dtypes: category(5), datetime64[ns](1), float64(4), int64(4), object(8)\n",
      "memory usage: 9.4+ KB\n"
     ]
    }
   ],
   "source": [
    "#Convert categorical data to the categorical data type and inspect. \n",
    "CH_Data_New['TypeControl'] = CH_Data_New['TypeControl'].astype('category')\n",
    "CH_Data_New['Teaching'] = CH_Data_New['Teaching'].astype('category')\n",
    "CH_Data_New['Gender'] = CH_Data_New['Gender'].astype('category')\n",
    "CH_Data_New['DonorType'] = CH_Data_New['DonorType'].astype('category')\n",
    "CH_Data_New['PositionTitle'] = CH_Data_New['PositionTitle'].astype('category')\n",
    "CH_Data_New.info()"
   ]
  },
  {
   "cell_type": "code",
   "execution_count": 33,
   "id": "d3cc59fd-15bc-41f1-bcd1-54c1380d2cfa",
   "metadata": {},
   "outputs": [
    {
     "data": {
      "text/html": [
       "<div>\n",
       "<style scoped>\n",
       "    .dataframe tbody tr th:only-of-type {\n",
       "        vertical-align: middle;\n",
       "    }\n",
       "\n",
       "    .dataframe tbody tr th {\n",
       "        vertical-align: top;\n",
       "    }\n",
       "\n",
       "    .dataframe thead th {\n",
       "        text-align: right;\n",
       "    }\n",
       "</style>\n",
       "<table border=\"1\" class=\"dataframe\">\n",
       "  <thead>\n",
       "    <tr style=\"text-align: right;\">\n",
       "      <th></th>\n",
       "      <th>HospitalID</th>\n",
       "      <th>Name</th>\n",
       "      <th>Zip</th>\n",
       "      <th>TypeControl</th>\n",
       "      <th>Teaching</th>\n",
       "      <th>DonorType</th>\n",
       "      <th>NoFTE</th>\n",
       "      <th>NetPatRev</th>\n",
       "      <th>InOperExp</th>\n",
       "      <th>OutOperExp</th>\n",
       "      <th>...</th>\n",
       "      <th>AvlBeds</th>\n",
       "      <th>LastName</th>\n",
       "      <th>FirstName</th>\n",
       "      <th>Gender</th>\n",
       "      <th>PositionTitle</th>\n",
       "      <th>Compensation</th>\n",
       "      <th>MaxTerm</th>\n",
       "      <th>StartDate</th>\n",
       "      <th>Phone</th>\n",
       "      <th>Email</th>\n",
       "    </tr>\n",
       "  </thead>\n",
       "  <tbody>\n",
       "    <tr>\n",
       "      <th>0</th>\n",
       "      <td>45740</td>\n",
       "      <td>Mammoth Hospital</td>\n",
       "      <td>93546-0660</td>\n",
       "      <td>District</td>\n",
       "      <td>Small/Rural</td>\n",
       "      <td>Charity</td>\n",
       "      <td>327.0</td>\n",
       "      <td>1.355202e+05</td>\n",
       "      <td>2.052343e+07</td>\n",
       "      <td>3.491622e+07</td>\n",
       "      <td>...</td>\n",
       "      <td>15</td>\n",
       "      <td>Web</td>\n",
       "      <td>David</td>\n",
       "      <td>M</td>\n",
       "      <td>Safety Inspection Member</td>\n",
       "      <td>23987</td>\n",
       "      <td>2</td>\n",
       "      <td>2012-01-01</td>\n",
       "      <td>785-532-2452</td>\n",
       "      <td>david.web@comenitymed.com</td>\n",
       "    </tr>\n",
       "    <tr>\n",
       "      <th>1</th>\n",
       "      <td>12145</td>\n",
       "      <td>Victor Valley Community Hospital</td>\n",
       "      <td>92392</td>\n",
       "      <td>Non Profit</td>\n",
       "      <td>Small/Rural</td>\n",
       "      <td>Charity</td>\n",
       "      <td>345.0</td>\n",
       "      <td>1.361567e+05</td>\n",
       "      <td>3.344754e+07</td>\n",
       "      <td>2.034860e+07</td>\n",
       "      <td>...</td>\n",
       "      <td>99</td>\n",
       "      <td>Rodriguez</td>\n",
       "      <td>Jose</td>\n",
       "      <td>M</td>\n",
       "      <td>Regional Representative</td>\n",
       "      <td>46978</td>\n",
       "      <td>4</td>\n",
       "      <td>2009-01-01</td>\n",
       "      <td>405-744-2238</td>\n",
       "      <td>jose.rodriguez@edihealth.com</td>\n",
       "    </tr>\n",
       "    <tr>\n",
       "      <th>2</th>\n",
       "      <td>25667</td>\n",
       "      <td>Pioneers Memorial Hospital</td>\n",
       "      <td>92227</td>\n",
       "      <td>District</td>\n",
       "      <td>Small/Rural</td>\n",
       "      <td>Charity</td>\n",
       "      <td>601.2</td>\n",
       "      <td>1.970943e+05</td>\n",
       "      <td>3.725418e+07</td>\n",
       "      <td>3.783245e+07</td>\n",
       "      <td>...</td>\n",
       "      <td>107</td>\n",
       "      <td>Adamson</td>\n",
       "      <td>David</td>\n",
       "      <td>M</td>\n",
       "      <td>Regional Representative</td>\n",
       "      <td>46978</td>\n",
       "      <td>4</td>\n",
       "      <td>2012-01-01</td>\n",
       "      <td>785-532-7573</td>\n",
       "      <td>david.adamson@txbiomed.net</td>\n",
       "    </tr>\n",
       "    <tr>\n",
       "      <th>3</th>\n",
       "      <td>46996</td>\n",
       "      <td>Ridgecrest Regional Hospital</td>\n",
       "      <td>93555</td>\n",
       "      <td>Non Profit</td>\n",
       "      <td>Small/Rural</td>\n",
       "      <td>Charity</td>\n",
       "      <td>400.0</td>\n",
       "      <td>1.391704e+05</td>\n",
       "      <td>2.338557e+07</td>\n",
       "      <td>2.466136e+07</td>\n",
       "      <td>...</td>\n",
       "      <td>55</td>\n",
       "      <td>Roberts</td>\n",
       "      <td>Melissa</td>\n",
       "      <td>F</td>\n",
       "      <td>Safety Inspection Member</td>\n",
       "      <td>23987</td>\n",
       "      <td>2</td>\n",
       "      <td>2009-01-01</td>\n",
       "      <td>785-532-9779</td>\n",
       "      <td>melissa.roberts@txbiomed.net</td>\n",
       "    </tr>\n",
       "    <tr>\n",
       "      <th>4</th>\n",
       "      <td>37393</td>\n",
       "      <td>Barstow Community Hospital</td>\n",
       "      <td>92311</td>\n",
       "      <td>Investor</td>\n",
       "      <td>Small/Rural</td>\n",
       "      <td>Charity</td>\n",
       "      <td>262.0</td>\n",
       "      <td>1.167978e+05</td>\n",
       "      <td>1.368450e+07</td>\n",
       "      <td>1.515999e+07</td>\n",
       "      <td>...</td>\n",
       "      <td>42</td>\n",
       "      <td>Iwata</td>\n",
       "      <td>Akira</td>\n",
       "      <td>M</td>\n",
       "      <td>Regional Representative</td>\n",
       "      <td>46978</td>\n",
       "      <td>4</td>\n",
       "      <td>2011-01-01</td>\n",
       "      <td>801-611-9161</td>\n",
       "      <td>akira.iwata@hsu.edu</td>\n",
       "    </tr>\n",
       "    <tr>\n",
       "      <th>...</th>\n",
       "      <td>...</td>\n",
       "      <td>...</td>\n",
       "      <td>...</td>\n",
       "      <td>...</td>\n",
       "      <td>...</td>\n",
       "      <td>...</td>\n",
       "      <td>...</td>\n",
       "      <td>...</td>\n",
       "      <td>...</td>\n",
       "      <td>...</td>\n",
       "      <td>...</td>\n",
       "      <td>...</td>\n",
       "      <td>...</td>\n",
       "      <td>...</td>\n",
       "      <td>...</td>\n",
       "      <td>...</td>\n",
       "      <td>...</td>\n",
       "      <td>...</td>\n",
       "      <td>...</td>\n",
       "      <td>...</td>\n",
       "      <td>...</td>\n",
       "    </tr>\n",
       "    <tr>\n",
       "      <th>57</th>\n",
       "      <td>31032</td>\n",
       "      <td>Long Beach Memorial &amp; Miller Children's Hospital</td>\n",
       "      <td>90806</td>\n",
       "      <td>Non Profit</td>\n",
       "      <td>Teaching</td>\n",
       "      <td>Alumni</td>\n",
       "      <td>5218.0</td>\n",
       "      <td>1.187022e+06</td>\n",
       "      <td>2.912481e+08</td>\n",
       "      <td>1.093286e+08</td>\n",
       "      <td>...</td>\n",
       "      <td>462</td>\n",
       "      <td>Dong</td>\n",
       "      <td>HongWei</td>\n",
       "      <td>F</td>\n",
       "      <td>Safety Inspection Member</td>\n",
       "      <td>23987</td>\n",
       "      <td>2</td>\n",
       "      <td>2012-01-01</td>\n",
       "      <td>479-354-4864</td>\n",
       "      <td>hongwei.dong@brokenhealth.com</td>\n",
       "    </tr>\n",
       "    <tr>\n",
       "      <th>58</th>\n",
       "      <td>22460</td>\n",
       "      <td>Stanford Hospital &amp; Clinics</td>\n",
       "      <td>94305</td>\n",
       "      <td>Non Profit</td>\n",
       "      <td>Teaching</td>\n",
       "      <td>Alumni</td>\n",
       "      <td>6392.0</td>\n",
       "      <td>4.333934e+06</td>\n",
       "      <td>9.289621e+08</td>\n",
       "      <td>6.621559e+08</td>\n",
       "      <td>...</td>\n",
       "      <td>445</td>\n",
       "      <td>Smith</td>\n",
       "      <td>Mary</td>\n",
       "      <td>F</td>\n",
       "      <td>Safety Inspection Member</td>\n",
       "      <td>23987</td>\n",
       "      <td>2</td>\n",
       "      <td>2012-01-01</td>\n",
       "      <td>469-767-5485</td>\n",
       "      <td>mary.smith@ihc.com</td>\n",
       "    </tr>\n",
       "    <tr>\n",
       "      <th>59</th>\n",
       "      <td>33192</td>\n",
       "      <td>California Pacific Medical Center - Pacific Ca...</td>\n",
       "      <td>94115</td>\n",
       "      <td>Non Profit</td>\n",
       "      <td>Teaching</td>\n",
       "      <td>Alumni</td>\n",
       "      <td>1565.1</td>\n",
       "      <td>2.736281e+06</td>\n",
       "      <td>6.337903e+08</td>\n",
       "      <td>2.960207e+08</td>\n",
       "      <td>...</td>\n",
       "      <td>730</td>\n",
       "      <td>Fourier</td>\n",
       "      <td>Craig</td>\n",
       "      <td>M</td>\n",
       "      <td>Regional Representative</td>\n",
       "      <td>46978</td>\n",
       "      <td>4</td>\n",
       "      <td>2011-01-01</td>\n",
       "      <td>503-235-4877</td>\n",
       "      <td>craig.fourier@comenitymed.com</td>\n",
       "    </tr>\n",
       "    <tr>\n",
       "      <th>60</th>\n",
       "      <td>38900</td>\n",
       "      <td>Cedars-Sinai Medical Center</td>\n",
       "      <td>90048</td>\n",
       "      <td>Non Profit</td>\n",
       "      <td>Teaching</td>\n",
       "      <td>Alumni</td>\n",
       "      <td>8000.0</td>\n",
       "      <td>4.662582e+06</td>\n",
       "      <td>1.285631e+09</td>\n",
       "      <td>4.616758e+08</td>\n",
       "      <td>...</td>\n",
       "      <td>909</td>\n",
       "      <td>Paanua</td>\n",
       "      <td>Kaaluai</td>\n",
       "      <td>M</td>\n",
       "      <td>Regional Representative</td>\n",
       "      <td>46978</td>\n",
       "      <td>4</td>\n",
       "      <td>2011-01-01</td>\n",
       "      <td>479-684-1883</td>\n",
       "      <td>kaaluai.paanua@brokenhealth.com</td>\n",
       "    </tr>\n",
       "    <tr>\n",
       "      <th>61</th>\n",
       "      <td>45740</td>\n",
       "      <td>Mammoth Hospital</td>\n",
       "      <td>93546-0660</td>\n",
       "      <td>District</td>\n",
       "      <td>Small/Rural</td>\n",
       "      <td>Charity</td>\n",
       "      <td>327.0</td>\n",
       "      <td>1.355202e+05</td>\n",
       "      <td>2.052343e+07</td>\n",
       "      <td>3.491622e+07</td>\n",
       "      <td>...</td>\n",
       "      <td>15</td>\n",
       "      <td>Morgan</td>\n",
       "      <td>Troy</td>\n",
       "      <td>M</td>\n",
       "      <td>Safety Inspection Member</td>\n",
       "      <td>23987</td>\n",
       "      <td>2</td>\n",
       "      <td>2025-04-21</td>\n",
       "      <td>406-243-2262</td>\n",
       "      <td>super_rad_inspector@gmail.com</td>\n",
       "    </tr>\n",
       "  </tbody>\n",
       "</table>\n",
       "<p>62 rows × 22 columns</p>\n",
       "</div>"
      ],
      "text/plain": [
       "    HospitalID                                               Name         Zip  \\\n",
       "0        45740                                   Mammoth Hospital  93546-0660   \n",
       "1        12145                   Victor Valley Community Hospital       92392   \n",
       "2        25667                         Pioneers Memorial Hospital       92227   \n",
       "3        46996                       Ridgecrest Regional Hospital       93555   \n",
       "4        37393                         Barstow Community Hospital       92311   \n",
       "..         ...                                                ...         ...   \n",
       "57       31032   Long Beach Memorial & Miller Children's Hospital       90806   \n",
       "58       22460                        Stanford Hospital & Clinics       94305   \n",
       "59       33192  California Pacific Medical Center - Pacific Ca...       94115   \n",
       "60       38900                        Cedars-Sinai Medical Center       90048   \n",
       "61       45740                                   Mammoth Hospital  93546-0660   \n",
       "\n",
       "   TypeControl     Teaching DonorType   NoFTE     NetPatRev     InOperExp  \\\n",
       "0     District  Small/Rural   Charity   327.0  1.355202e+05  2.052343e+07   \n",
       "1   Non Profit  Small/Rural   Charity   345.0  1.361567e+05  3.344754e+07   \n",
       "2     District  Small/Rural   Charity   601.2  1.970943e+05  3.725418e+07   \n",
       "3   Non Profit  Small/Rural   Charity   400.0  1.391704e+05  2.338557e+07   \n",
       "4     Investor  Small/Rural   Charity   262.0  1.167978e+05  1.368450e+07   \n",
       "..         ...          ...       ...     ...           ...           ...   \n",
       "57  Non Profit     Teaching    Alumni  5218.0  1.187022e+06  2.912481e+08   \n",
       "58  Non Profit     Teaching    Alumni  6392.0  4.333934e+06  9.289621e+08   \n",
       "59  Non Profit     Teaching    Alumni  1565.1  2.736281e+06  6.337903e+08   \n",
       "60  Non Profit     Teaching    Alumni  8000.0  4.662582e+06  1.285631e+09   \n",
       "61    District  Small/Rural   Charity   327.0  1.355202e+05  2.052343e+07   \n",
       "\n",
       "      OutOperExp  ...  AvlBeds   LastName  FirstName Gender  \\\n",
       "0   3.491622e+07  ...       15        Web      David      M   \n",
       "1   2.034860e+07  ...       99  Rodriguez       Jose      M   \n",
       "2   3.783245e+07  ...      107    Adamson      David      M   \n",
       "3   2.466136e+07  ...       55    Roberts    Melissa      F   \n",
       "4   1.515999e+07  ...       42      Iwata      Akira      M   \n",
       "..           ...  ...      ...        ...        ...    ...   \n",
       "57  1.093286e+08  ...      462       Dong    HongWei      F   \n",
       "58  6.621559e+08  ...      445      Smith       Mary      F   \n",
       "59  2.960207e+08  ...      730    Fourier      Craig      M   \n",
       "60  4.616758e+08  ...      909     Paanua    Kaaluai      M   \n",
       "61  3.491622e+07  ...       15     Morgan       Troy      M   \n",
       "\n",
       "               PositionTitle Compensation MaxTerm  StartDate         Phone  \\\n",
       "0   Safety Inspection Member        23987       2 2012-01-01  785-532-2452   \n",
       "1    Regional Representative        46978       4 2009-01-01  405-744-2238   \n",
       "2    Regional Representative        46978       4 2012-01-01  785-532-7573   \n",
       "3   Safety Inspection Member        23987       2 2009-01-01  785-532-9779   \n",
       "4    Regional Representative        46978       4 2011-01-01  801-611-9161   \n",
       "..                       ...          ...     ...        ...           ...   \n",
       "57  Safety Inspection Member        23987       2 2012-01-01  479-354-4864   \n",
       "58  Safety Inspection Member        23987       2 2012-01-01  469-767-5485   \n",
       "59   Regional Representative        46978       4 2011-01-01  503-235-4877   \n",
       "60   Regional Representative        46978       4 2011-01-01  479-684-1883   \n",
       "61  Safety Inspection Member        23987       2 2025-04-21  406-243-2262   \n",
       "\n",
       "                              Email  \n",
       "0         david.web@comenitymed.com  \n",
       "1      jose.rodriguez@edihealth.com  \n",
       "2        david.adamson@txbiomed.net  \n",
       "3      melissa.roberts@txbiomed.net  \n",
       "4               akira.iwata@hsu.edu  \n",
       "..                              ...  \n",
       "57    hongwei.dong@brokenhealth.com  \n",
       "58               mary.smith@ihc.com  \n",
       "59    craig.fourier@comenitymed.com  \n",
       "60  kaaluai.paanua@brokenhealth.com  \n",
       "61    super_rad_inspector@gmail.com  \n",
       "\n",
       "[62 rows x 22 columns]"
      ]
     },
     "execution_count": 33,
     "metadata": {},
     "output_type": "execute_result"
    }
   ],
   "source": [
    "# Output the DataFrame.\n",
    "CH_Data_New"
   ]
  },
  {
   "cell_type": "markdown",
   "id": "f97f36ef-251a-4588-b79e-90216159d618",
   "metadata": {},
   "source": [
    "# Descriptive Statistics"
   ]
  },
  {
   "cell_type": "markdown",
   "id": "11124c9b-7808-44ba-846f-15d4177b6248",
   "metadata": {},
   "source": [
    "## Summary Statistics"
   ]
  },
  {
   "cell_type": "code",
   "execution_count": 47,
   "id": "446ca2a6-951b-48e3-a7d0-1d7a2fd0b6f4",
   "metadata": {},
   "outputs": [
    {
     "data": {
      "text/html": [
       "<div>\n",
       "<style scoped>\n",
       "    .dataframe tbody tr th:only-of-type {\n",
       "        vertical-align: middle;\n",
       "    }\n",
       "\n",
       "    .dataframe tbody tr th {\n",
       "        vertical-align: top;\n",
       "    }\n",
       "\n",
       "    .dataframe thead th {\n",
       "        text-align: right;\n",
       "    }\n",
       "</style>\n",
       "<table border=\"1\" class=\"dataframe\">\n",
       "  <thead>\n",
       "    <tr style=\"text-align: right;\">\n",
       "      <th></th>\n",
       "      <th>NoFTE</th>\n",
       "      <th>NetPatRev</th>\n",
       "      <th>InOperExp</th>\n",
       "      <th>OutOperExp</th>\n",
       "      <th>OperRev</th>\n",
       "      <th>OperInc</th>\n",
       "      <th>AvlBeds</th>\n",
       "    </tr>\n",
       "  </thead>\n",
       "  <tbody>\n",
       "    <tr>\n",
       "      <th>mean</th>\n",
       "      <td>1333.76</td>\n",
       "      <td>6.609696e+05</td>\n",
       "      <td>1.639198e+08</td>\n",
       "      <td>8.926709e+07</td>\n",
       "      <td>2.529453e+08</td>\n",
       "      <td>-2.416488e+05</td>\n",
       "      <td>191.629032</td>\n",
       "    </tr>\n",
       "    <tr>\n",
       "      <th>median</th>\n",
       "      <td>368.66</td>\n",
       "      <td>1.670720e+05</td>\n",
       "      <td>3.124469e+07</td>\n",
       "      <td>3.491622e+07</td>\n",
       "      <td>6.153388e+07</td>\n",
       "      <td>1.464124e+06</td>\n",
       "      <td>99.000000</td>\n",
       "    </tr>\n",
       "    <tr>\n",
       "      <th>min</th>\n",
       "      <td>55.00</td>\n",
       "      <td>1.417224e+04</td>\n",
       "      <td>1.436471e+06</td>\n",
       "      <td>3.787718e+06</td>\n",
       "      <td>5.235317e+06</td>\n",
       "      <td>-3.211633e+08</td>\n",
       "      <td>12.000000</td>\n",
       "    </tr>\n",
       "    <tr>\n",
       "      <th>max</th>\n",
       "      <td>8000.00</td>\n",
       "      <td>4.662582e+06</td>\n",
       "      <td>1.285631e+09</td>\n",
       "      <td>6.621559e+08</td>\n",
       "      <td>1.912179e+09</td>\n",
       "      <td>1.648724e+08</td>\n",
       "      <td>909.000000</td>\n",
       "    </tr>\n",
       "  </tbody>\n",
       "</table>\n",
       "</div>"
      ],
      "text/plain": [
       "          NoFTE     NetPatRev     InOperExp    OutOperExp       OperRev  \\\n",
       "mean    1333.76  6.609696e+05  1.639198e+08  8.926709e+07  2.529453e+08   \n",
       "median   368.66  1.670720e+05  3.124469e+07  3.491622e+07  6.153388e+07   \n",
       "min       55.00  1.417224e+04  1.436471e+06  3.787718e+06  5.235317e+06   \n",
       "max     8000.00  4.662582e+06  1.285631e+09  6.621559e+08  1.912179e+09   \n",
       "\n",
       "             OperInc     AvlBeds  \n",
       "mean   -2.416488e+05  191.629032  \n",
       "median  1.464124e+06   99.000000  \n",
       "min    -3.211633e+08   12.000000  \n",
       "max     1.648724e+08  909.000000  "
      ]
     },
     "execution_count": 47,
     "metadata": {},
     "output_type": "execute_result"
    }
   ],
   "source": [
    "#Provide a summary of the mean, median, minimum value, and maximum value for each numeric variable. See reference. \n",
    "CH_Data_New.agg(\n",
    "    {\n",
    "        \"NoFTE\": [\"mean\",\"median\", \"min\", \"max\"],\n",
    "        \"NetPatRev\": [\"mean\",\"median\", \"min\", \"max\"],\n",
    "        \"InOperExp\": [\"mean\",\"median\", \"min\", \"max\"],\n",
    "        \"OutOperExp\": [\"mean\",\"median\", \"min\", \"max\"],\n",
    "        \"OperRev\": [\"mean\",\"median\", \"min\", \"max\"],\n",
    "        \"OperInc\": [\"mean\",\"median\", \"min\", \"max\"],    \n",
    "        \"AvlBeds\": [\"mean\",\"median\", \"min\", \"max\"],\n",
    "    }\n",
    ")"
   ]
  },
  {
   "cell_type": "code",
   "execution_count": 48,
   "id": "6ed33468-2972-4739-9249-ae940abde720",
   "metadata": {},
   "outputs": [
    {
     "data": {
      "text/html": [
       "<div>\n",
       "<style scoped>\n",
       "    .dataframe tbody tr th:only-of-type {\n",
       "        vertical-align: middle;\n",
       "    }\n",
       "\n",
       "    .dataframe tbody tr th {\n",
       "        vertical-align: top;\n",
       "    }\n",
       "\n",
       "    .dataframe thead th {\n",
       "        text-align: right;\n",
       "    }\n",
       "</style>\n",
       "<table border=\"1\" class=\"dataframe\">\n",
       "  <thead>\n",
       "    <tr style=\"text-align: right;\">\n",
       "      <th></th>\n",
       "      <th>Name</th>\n",
       "      <th>Zip</th>\n",
       "      <th>LastName</th>\n",
       "      <th>FirstName</th>\n",
       "      <th>Compensation</th>\n",
       "      <th>MaxTerm</th>\n",
       "      <th>Phone</th>\n",
       "      <th>Email</th>\n",
       "    </tr>\n",
       "  </thead>\n",
       "  <tbody>\n",
       "    <tr>\n",
       "      <th>count</th>\n",
       "      <td>62</td>\n",
       "      <td>62</td>\n",
       "      <td>62</td>\n",
       "      <td>62</td>\n",
       "      <td>62</td>\n",
       "      <td>62</td>\n",
       "      <td>62</td>\n",
       "      <td>62</td>\n",
       "    </tr>\n",
       "    <tr>\n",
       "      <th>unique</th>\n",
       "      <td>61</td>\n",
       "      <td>61</td>\n",
       "      <td>24</td>\n",
       "      <td>20</td>\n",
       "      <td>5</td>\n",
       "      <td>5</td>\n",
       "      <td>25</td>\n",
       "      <td>25</td>\n",
       "    </tr>\n",
       "    <tr>\n",
       "      <th>top</th>\n",
       "      <td>Mammoth Hospital</td>\n",
       "      <td>93546-0660</td>\n",
       "      <td>Smith</td>\n",
       "      <td>David</td>\n",
       "      <td>46978</td>\n",
       "      <td>4</td>\n",
       "      <td>785-532-2452</td>\n",
       "      <td>david.web@comenitymed.com</td>\n",
       "    </tr>\n",
       "    <tr>\n",
       "      <th>freq</th>\n",
       "      <td>2</td>\n",
       "      <td>2</td>\n",
       "      <td>4</td>\n",
       "      <td>6</td>\n",
       "      <td>24</td>\n",
       "      <td>24</td>\n",
       "      <td>3</td>\n",
       "      <td>3</td>\n",
       "    </tr>\n",
       "  </tbody>\n",
       "</table>\n",
       "</div>"
      ],
      "text/plain": [
       "                    Name         Zip LastName FirstName  Compensation  \\\n",
       "count                 62          62       62        62            62   \n",
       "unique                61          61       24        20             5   \n",
       "top     Mammoth Hospital  93546-0660    Smith     David         46978   \n",
       "freq                   2           2        4         6            24   \n",
       "\n",
       "        MaxTerm         Phone                      Email  \n",
       "count        62            62                         62  \n",
       "unique        5            25                         25  \n",
       "top           4  785-532-2452  david.web@comenitymed.com  \n",
       "freq         24             3                          3  "
      ]
     },
     "execution_count": 48,
     "metadata": {},
     "output_type": "execute_result"
    }
   ],
   "source": [
    "#Summarize statistics of text variables using .describe(include=['object']).\n",
    "CH_Data_New.describe(include=['object'])"
   ]
  },
  {
   "cell_type": "code",
   "execution_count": 49,
   "id": "bb19ad31-3b70-4aa2-b8c6-e0c3dc59f205",
   "metadata": {},
   "outputs": [
    {
     "data": {
      "text/html": [
       "<div>\n",
       "<style scoped>\n",
       "    .dataframe tbody tr th:only-of-type {\n",
       "        vertical-align: middle;\n",
       "    }\n",
       "\n",
       "    .dataframe tbody tr th {\n",
       "        vertical-align: top;\n",
       "    }\n",
       "\n",
       "    .dataframe thead th {\n",
       "        text-align: right;\n",
       "    }\n",
       "</style>\n",
       "<table border=\"1\" class=\"dataframe\">\n",
       "  <thead>\n",
       "    <tr style=\"text-align: right;\">\n",
       "      <th></th>\n",
       "      <th>TypeControl</th>\n",
       "      <th>Teaching</th>\n",
       "      <th>DonorType</th>\n",
       "      <th>Gender</th>\n",
       "      <th>PositionTitle</th>\n",
       "    </tr>\n",
       "  </thead>\n",
       "  <tbody>\n",
       "    <tr>\n",
       "      <th>count</th>\n",
       "      <td>62</td>\n",
       "      <td>62</td>\n",
       "      <td>62</td>\n",
       "      <td>62</td>\n",
       "      <td>62</td>\n",
       "    </tr>\n",
       "    <tr>\n",
       "      <th>unique</th>\n",
       "      <td>4</td>\n",
       "      <td>2</td>\n",
       "      <td>2</td>\n",
       "      <td>2</td>\n",
       "      <td>4</td>\n",
       "    </tr>\n",
       "    <tr>\n",
       "      <th>top</th>\n",
       "      <td>Non Profit</td>\n",
       "      <td>Small/Rural</td>\n",
       "      <td>Charity</td>\n",
       "      <td>F</td>\n",
       "      <td>Regional Representative</td>\n",
       "    </tr>\n",
       "    <tr>\n",
       "      <th>freq</th>\n",
       "      <td>37</td>\n",
       "      <td>45</td>\n",
       "      <td>45</td>\n",
       "      <td>32</td>\n",
       "      <td>24</td>\n",
       "    </tr>\n",
       "  </tbody>\n",
       "</table>\n",
       "</div>"
      ],
      "text/plain": [
       "       TypeControl     Teaching DonorType Gender            PositionTitle\n",
       "count           62           62        62     62                       62\n",
       "unique           4            2         2      2                        4\n",
       "top     Non Profit  Small/Rural   Charity      F  Regional Representative\n",
       "freq            37           45        45     32                       24"
      ]
     },
     "execution_count": 49,
     "metadata": {},
     "output_type": "execute_result"
    }
   ],
   "source": [
    "#Summarize statistics of categorical variables using .describe(include=['category'])\n",
    "CH_Data_New.describe(include=['category'])"
   ]
  },
  {
   "cell_type": "markdown",
   "id": "2abea2d6-a38c-4ea7-96dd-56aff6d2236f",
   "metadata": {},
   "source": [
    "## Visuals"
   ]
  },
  {
   "cell_type": "markdown",
   "id": "edb0ba64-2cfe-4236-ac9c-68e1048118ad",
   "metadata": {},
   "source": [
    "### Create histograms of the following variables: `NoFTE`, `NetPatRev`, `InOperExp`, `OutOperExp`, `OperRev`, `OperInc`, and `AvlBeds`."
   ]
  },
  {
   "cell_type": "code",
   "execution_count": 50,
   "id": "ff11c843-b057-48d6-b908-2df7bcb57dee",
   "metadata": {},
   "outputs": [
    {
     "data": {
      "text/plain": [
       "<Axes: ylabel='Frequency'>"
      ]
     },
     "execution_count": 50,
     "metadata": {},
     "output_type": "execute_result"
    },
    {
     "data": {
      "image/png": "[encoded data removed]",
      "text/plain": [
       "<Figure size 640x480 with 1 Axes>"
      ]
     },
     "metadata": {},
     "output_type": "display_data"
    }
   ],
   "source": [
    "# Histogram for 'NoFTE'.\n",
    "CH_Data_New['NoFTE'].plot.hist(alpha=0.5)"
   ]
  },
  {
   "cell_type": "code",
   "execution_count": 51,
   "id": "0745f270-a33e-4b4b-a687-e3b31c0e444e",
   "metadata": {},
   "outputs": [
    {
     "data": {
      "text/plain": [
       "<Axes: ylabel='Frequency'>"
      ]
     },
     "execution_count": 51,
     "metadata": {},
     "output_type": "execute_result"
    },
    {
     "data": {
      "image/png": "[encoded data removed]",
      "text/plain": [
       "<Figure size 640x480 with 1 Axes>"
      ]
     },
     "metadata": {},
     "output_type": "display_data"
    }
   ],
   "source": [
    "# Histogram for 'NetPatRev'.\n",
    "CH_Data_New['NetPatRev'].plot.hist(alpha=0.5)"
   ]
  },
  {
   "cell_type": "code",
   "execution_count": 52,
   "id": "ab75deca-80f5-423d-a138-6393f4cc0b7f",
   "metadata": {},
   "outputs": [
    {
     "data": {
      "text/plain": [
       "<Axes: ylabel='Frequency'>"
      ]
     },
     "execution_count": 52,
     "metadata": {},
     "output_type": "execute_result"
    },
    {
     "data": {
      "image/png": "[encoded data removed]",
      "text/plain": [
       "<Figure size 640x480 with 1 Axes>"
      ]
     },
     "metadata": {},
     "output_type": "display_data"
    }
   ],
   "source": [
    "# Histogram for 'InOperExp'.\n",
    "CH_Data_New['InOperExp'].plot.hist(alpha=0.5)"
   ]
  },
  {
   "cell_type": "code",
   "execution_count": 53,
   "id": "4d297ab6-0e9e-4f74-8d87-59b759a916c1",
   "metadata": {},
   "outputs": [
    {
     "data": {
      "text/plain": [
       "<Axes: ylabel='Frequency'>"
      ]
     },
     "execution_count": 53,
     "metadata": {},
     "output_type": "execute_result"
    },
    {
     "data": {
      "image/png": "[encoded data removed]",
      "text/plain": [
       "<Figure size 640x480 with 1 Axes>"
      ]
     },
     "metadata": {},
     "output_type": "display_data"
    }
   ],
   "source": [
    "# Histogram for 'OutOperExp'.\n",
    "CH_Data_New['OutOperExp'].plot.hist(alpha=0.5)"
   ]
  },
  {
   "cell_type": "code",
   "execution_count": 54,
   "id": "feaa20c5-21d1-455a-8cf7-da60f41d53f0",
   "metadata": {},
   "outputs": [
    {
     "data": {
      "text/plain": [
       "<Axes: ylabel='Frequency'>"
      ]
     },
     "execution_count": 54,
     "metadata": {},
     "output_type": "execute_result"
    },
    {
     "data": {
      "image/png": "[encoded data removed]",
      "text/plain": [
       "<Figure size 640x480 with 1 Axes>"
      ]
     },
     "metadata": {},
     "output_type": "display_data"
    }
   ],
   "source": [
    "# Histogram for 'OperRev'.\n",
    "CH_Data_New['OperRev'].plot.hist(alpha=0.5)"
   ]
  },
  {
   "cell_type": "code",
   "execution_count": 55,
   "id": "0140f5d0-3c05-4176-bd25-2fb61962850b",
   "metadata": {},
   "outputs": [
    {
     "data": {
      "text/plain": [
       "<Axes: ylabel='Frequency'>"
      ]
     },
     "execution_count": 55,
     "metadata": {},
     "output_type": "execute_result"
    },
    {
     "data": {
      "image/png": "[encoded data removed]",
      "text/plain": [
       "<Figure size 640x480 with 1 Axes>"
      ]
     },
     "metadata": {},
     "output_type": "display_data"
    }
   ],
   "source": [
    "# Histogram for 'OperInc'.\n",
    "CH_Data_New['OperInc'].plot.hist(alpha=0.5)"
   ]
  },
  {
   "cell_type": "code",
   "execution_count": 56,
   "id": "d8064427-6027-4507-bbe7-b51bd5f0207e",
   "metadata": {},
   "outputs": [
    {
     "data": {
      "text/plain": [
       "<Axes: ylabel='Frequency'>"
      ]
     },
     "execution_count": 56,
     "metadata": {},
     "output_type": "execute_result"
    },
    {
     "data": {
      "image/png": "[encoded data removed]",
      "text/plain": [
       "<Figure size 640x480 with 1 Axes>"
      ]
     },
     "metadata": {},
     "output_type": "display_data"
    }
   ],
   "source": [
    "# Histogram for 'AvlBeds'.\n",
    "CH_Data_New['AvlBeds'].plot.hist(alpha=0.5)"
   ]
  },
  {
   "cell_type": "markdown",
   "id": "b6f8872b-b7e6-4b65-a1c1-b50f644e335b",
   "metadata": {},
   "source": [
    "### Create scatterplots of the following variables using *net patient revenue* as the target variable (i.e., place it on the *y*-axis): `NoFTE`, `InOperExp`, `OutOperExp`, `OperRev`, `OperInc`, and `AvlBeds`. Describe the linearity and trend of each plot."
   ]
  },
  {
   "cell_type": "code",
   "execution_count": 60,
   "id": "7549c325-09de-4e4a-a85b-527977345fc7",
   "metadata": {},
   "outputs": [
    {
     "data": {
      "text/plain": [
       "<Axes: xlabel='NoFTE', ylabel='NetPatRev'>"
      ]
     },
     "execution_count": 60,
     "metadata": {},
     "output_type": "execute_result"
    },
    {
     "data": {
      "image/png": "[encoded data removed]",
      "text/plain": [
       "<Figure size 640x480 with 1 Axes>"
      ]
     },
     "metadata": {},
     "output_type": "display_data"
    }
   ],
   "source": [
    "#Scatterplot for net patient revenue ('NetPatRev') and 'NoFTE'\n",
    "CH_Data_New.plot.scatter(x='NoFTE', y='NetPatRev')\n",
    "\n",
    "# This relationship is pretty linear with net patient revenue increasing in correlation with the number of full time employees."
   ]
  },
  {
   "cell_type": "code",
   "execution_count": 59,
   "id": "5bf8cba0-dea6-4387-96c1-0caf08cd0a37",
   "metadata": {},
   "outputs": [
    {
     "data": {
      "text/plain": [
       "<Axes: xlabel='InOperExp', ylabel='NetPatRev'>"
      ]
     },
     "execution_count": 59,
     "metadata": {},
     "output_type": "execute_result"
    },
    {
     "data": {
      "image/png": "[encoded data removed]",
      "text/plain": [
       "<Figure size 640x480 with 1 Axes>"
      ]
     },
     "metadata": {},
     "output_type": "display_data"
    }
   ],
   "source": [
    "#Scatterplot for net patient revenue ('NetPatRev') and 'InOperExp'\n",
    "CH_Data_New.plot.scatter(x='InOperExp', y='NetPatRev')\n",
    "\n",
    "# This relationship is also pretty linear with net patient revenue increasing in correlation with the inpatient operating costs."
   ]
  },
  {
   "cell_type": "code",
   "execution_count": 61,
   "id": "7ba19411-7fb4-4172-878e-eb6aae359fd7",
   "metadata": {},
   "outputs": [
    {
     "data": {
      "text/plain": [
       "<Axes: xlabel='OutOperExp', ylabel='NetPatRev'>"
      ]
     },
     "execution_count": 61,
     "metadata": {},
     "output_type": "execute_result"
    },
    {
     "data": {
      "image/png": "[encoded data removed]",
      "text/plain": [
       "<Figure size 640x480 with 1 Axes>"
      ]
     },
     "metadata": {},
     "output_type": "display_data"
    }
   ],
   "source": [
    "#Scatterplot for net patient revenue ('NetPatRev') and 'OutOperExp'\n",
    "CH_Data_New.plot.scatter(x='OutOperExp', y='NetPatRev')\n",
    "\n",
    "# This relationship is also pretty linear with net patient revenue increasing in correlation with the outpatient operating costs."
   ]
  },
  {
   "cell_type": "code",
   "execution_count": 62,
   "id": "c9e29bee-bcdd-4710-9b3f-5accde27953c",
   "metadata": {},
   "outputs": [
    {
     "data": {
      "text/plain": [
       "<Axes: xlabel='OperRev', ylabel='NetPatRev'>"
      ]
     },
     "execution_count": 62,
     "metadata": {},
     "output_type": "execute_result"
    },
    {
     "data": {
      "image/png": "[encoded data removed]",
      "text/plain": [
       "<Figure size 640x480 with 1 Axes>"
      ]
     },
     "metadata": {},
     "output_type": "display_data"
    }
   ],
   "source": [
    "#Scatterplot for net patient revenue ('NetPatRev') and 'OperRev'\n",
    "CH_Data_New.plot.scatter(x='OperRev', y='NetPatRev')\n",
    "\n",
    "# This relationship is very linear with net patient revenue increasing in correlation with operating revenue."
   ]
  },
  {
   "cell_type": "code",
   "execution_count": 63,
   "id": "c4ad828a-57be-4a1f-81ec-780dad029c7b",
   "metadata": {},
   "outputs": [
    {
     "data": {
      "text/plain": [
       "<Axes: xlabel='OperInc', ylabel='NetPatRev'>"
      ]
     },
     "execution_count": 63,
     "metadata": {},
     "output_type": "execute_result"
    },
    {
     "data": {
      "image/png": "[encoded data removed]",
      "text/plain": [
       "<Figure size 640x480 with 1 Axes>"
      ]
     },
     "metadata": {},
     "output_type": "display_data"
    }
   ],
   "source": [
    "#Scatterplot for net patient revenue ('NetPatRev') and 'OperInc'\n",
    "CH_Data_New.plot.scatter(x='OperInc', y='NetPatRev')\n",
    "\n",
    "# This plot doesn't seem to be linear, or maby is sort of linear? Operating income (operating revenue less the operating expenses) is concentrated around zero."
   ]
  },
  {
   "cell_type": "code",
   "execution_count": 64,
   "id": "22ef1ffa-56dc-4b39-b6f7-3534d645be31",
   "metadata": {},
   "outputs": [
    {
     "data": {
      "text/plain": [
       "<Axes: xlabel='AvlBeds', ylabel='NetPatRev'>"
      ]
     },
     "execution_count": 64,
     "metadata": {},
     "output_type": "execute_result"
    },
    {
     "data": {
      "image/png": "[encoded data removed]",
      "text/plain": [
       "<Figure size 640x480 with 1 Axes>"
      ]
     },
     "metadata": {},
     "output_type": "display_data"
    }
   ],
   "source": [
    "#Scatterplot for net patient revenue ('NetPatRev') and 'AvlBeds'\n",
    "CH_Data_New.plot.scatter(x='AvlBeds', y='NetPatRev')\n",
    "\n",
    "# This seems to be pretty linear with net patient revenue increasing in correlation to available beds. "
   ]
  },
  {
   "cell_type": "markdown",
   "id": "73fd32e4-6fb2-4e23-b531-2cd52ff7c267",
   "metadata": {},
   "source": [
    "### Create a boxplot and assess the lack or presence of outliers for the following variables: `NoFTE`, `NetPatRev`, `InOperExp`, `OutOperExp`, `OperRev`, `OperInc`, and `AvlBeds`. You may need to split the variables up due to the range of values in the data (like we did in the tutorial).\n",
    "\n"
   ]
  },
  {
   "cell_type": "code",
   "execution_count": 66,
   "id": "7f5676af-6554-4b8e-85aa-879b07386cdf",
   "metadata": {},
   "outputs": [
    {
     "data": {
      "text/plain": [
       "<Axes: >"
      ]
     },
     "execution_count": 66,
     "metadata": {},
     "output_type": "execute_result"
    },
    {
     "data": {
      "image/png": "[encoded data removed]",
      "text/plain": [
       "<Figure size 640x480 with 1 Axes>"
      ]
     },
     "metadata": {},
     "output_type": "display_data"
    }
   ],
   "source": [
    "#Create boxplot of 'NoFTE'.\n",
    "CH_Data_New.loc[:,['NoFTE']].boxplot()\n",
    "\n",
    "# There are many outliers. "
   ]
  },
  {
   "cell_type": "code",
   "execution_count": 67,
   "id": "01178f8b-9fc8-4ee3-9bcc-e8eb3b451d21",
   "metadata": {},
   "outputs": [
    {
     "data": {
      "text/plain": [
       "<Axes: >"
      ]
     },
     "execution_count": 67,
     "metadata": {},
     "output_type": "execute_result"
    },
    {
     "data": {
      "image/png": "[encoded data removed]",
      "text/plain": [
       "<Figure size 640x480 with 1 Axes>"
      ]
     },
     "metadata": {},
     "output_type": "display_data"
    }
   ],
   "source": [
    "#Create boxplot of 'NetPatRev'.\n",
    "CH_Data_New.loc[:,['NetPatRev']].boxplot()\n",
    "\n",
    "# There are many outliers. "
   ]
  },
  {
   "cell_type": "code",
   "execution_count": 68,
   "id": "0068097a-22e8-4437-9ee6-a6956a686adc",
   "metadata": {},
   "outputs": [
    {
     "data": {
      "text/plain": [
       "<Axes: >"
      ]
     },
     "execution_count": 68,
     "metadata": {},
     "output_type": "execute_result"
    },
    {
     "data": {
      "image/png": "[encoded data removed]",
      "text/plain": [
       "<Figure size 640x480 with 1 Axes>"
      ]
     },
     "metadata": {},
     "output_type": "display_data"
    }
   ],
   "source": [
    "#Create boxplot of 'InOperExp'.\n",
    "CH_Data_New.loc[:,['InOperExp']].boxplot()\n",
    "\n",
    "# There are many outliers. "
   ]
  },
  {
   "cell_type": "code",
   "execution_count": 69,
   "id": "f8a9aac0-33b5-4231-a8bd-6cb68460aef0",
   "metadata": {},
   "outputs": [
    {
     "data": {
      "text/plain": [
       "<Axes: >"
      ]
     },
     "execution_count": 69,
     "metadata": {},
     "output_type": "execute_result"
    },
    {
     "data": {
      "image/png": "[encoded data removed]",
      "text/plain": [
       "<Figure size 640x480 with 1 Axes>"
      ]
     },
     "metadata": {},
     "output_type": "display_data"
    }
   ],
   "source": [
    "#Create boxplot of 'OutOperExp'.\n",
    "CH_Data_New.loc[:,['OutOperExp']].boxplot()\n",
    "\n",
    "# Again, there are many outliers. "
   ]
  },
  {
   "cell_type": "code",
   "execution_count": 70,
   "id": "576a7884-7db7-40a5-a9f8-bcf57d491bf8",
   "metadata": {},
   "outputs": [
    {
     "data": {
      "text/plain": [
       "<Axes: >"
      ]
     },
     "execution_count": 70,
     "metadata": {},
     "output_type": "execute_result"
    },
    {
     "data": {
      "image/png": "[encoded data removed]",
      "text/plain": [
       "<Figure size 640x480 with 1 Axes>"
      ]
     },
     "metadata": {},
     "output_type": "display_data"
    }
   ],
   "source": [
    "#Create boxplot of 'OperRev'.\n",
    "CH_Data_New.loc[:,['OperRev']].boxplot()\n",
    "\n",
    "# Again, there are many outliers. "
   ]
  },
  {
   "cell_type": "code",
   "execution_count": 71,
   "id": "c32a5a44-ed9f-4775-92d0-9409dd389868",
   "metadata": {},
   "outputs": [
    {
     "data": {
      "text/plain": [
       "<Axes: >"
      ]
     },
     "execution_count": 71,
     "metadata": {},
     "output_type": "execute_result"
    },
    {
     "data": {
      "image/png": "[encoded data removed]",
      "text/plain": [
       "<Figure size 640x480 with 1 Axes>"
      ]
     },
     "metadata": {},
     "output_type": "display_data"
    }
   ],
   "source": [
    "#Create boxplot of 'OperInc'.\n",
    "CH_Data_New.loc[:,['OperInc']].boxplot()\n",
    "\n",
    "# Again, there are many outliers. However, in this one there are both low and high outliers. "
   ]
  },
  {
   "cell_type": "markdown",
   "id": "ff222ab5-420a-4ba4-8445-a7e1d0314880",
   "metadata": {},
   "source": [
    "#### Choose three variables and create a QQ plot, providing your assessment of the normality."
   ]
  },
  {
   "cell_type": "code",
   "execution_count": 72,
   "id": "c7bc6386-af3b-4d91-950c-ad12bbe56093",
   "metadata": {},
   "outputs": [
    {
     "data": {
      "text/plain": [
       "((array([-2.28632824, -1.92718526, -1.71674477, -1.56281938, -1.43895118,\n",
       "         -1.33390917, -1.24182024, -1.15920615, -1.08382718, -1.01415101,\n",
       "         -0.94907991, -0.88779833, -0.82968216, -0.77424185, -0.72108527,\n",
       "         -0.6698925 , -0.6203983 , -0.57237956, -0.52564609, -0.48003374,\n",
       "         -0.43539923, -0.39161603, -0.34857126, -0.30616308, -0.26429872,\n",
       "         -0.2228927 , -0.18186549, -0.14114226, -0.10065186, -0.06032587,\n",
       "         -0.02009779,  0.02009779,  0.06032587,  0.10065186,  0.14114226,\n",
       "          0.18186549,  0.2228927 ,  0.26429872,  0.30616308,  0.34857126,\n",
       "          0.39161603,  0.43539923,  0.48003374,  0.52564609,  0.57237956,\n",
       "          0.6203983 ,  0.6698925 ,  0.72108527,  0.77424185,  0.82968216,\n",
       "          0.88779833,  0.94907991,  1.01415101,  1.08382718,  1.15920615,\n",
       "          1.24182024,  1.33390917,  1.43895118,  1.56281938,  1.71674477,\n",
       "          1.92718526,  2.28632824]),\n",
       "  array([  14172.24044,   14313.04918,   17566.92896,   26260.51366,\n",
       "           28773.45355,   29712.3306 ,   30786.19672,   33593.68306,\n",
       "           40498.73497,   51726.4918 ,   52983.85792,   57728.56284,\n",
       "           59504.62295,   61816.75956,   64759.03825,   65792.42623,\n",
       "           94015.90984,  103189.4044 ,  105166.8934 ,  108162.9126 ,\n",
       "          108960.418  ,  116609.8169 ,  116797.8306 ,  123480.2705 ,\n",
       "          135520.2186 ,  135520.2186 ,  136156.6913 ,  137280.7104 ,\n",
       "          139170.3798 ,  145733.5765 ,  161745.224  ,  172398.8579 ,\n",
       "          173227.4863 ,  197094.2541 ,  209348.9426 ,  214516.4481 ,\n",
       "          232503.0191 ,  240737.9563 ,  295579.235  ,  335179.5574 ,\n",
       "          335179.5574 ,  363127.5956 ,  367540.6639 ,  404802.8279 ,\n",
       "          500659.6913 ,  503894.9617 ,  540975.1175 ,  723744.8169 ,\n",
       "          968917.4973 , 1021054.09   , 1187021.872  , 1321031.801  ,\n",
       "         1476284.836  , 1665619.301  , 1710382.423  , 2070024.44   ,\n",
       "         2428730.281  , 2736281.415  , 2901254.511  , 4168988.809  ,\n",
       "         4333934.423  , 4662581.617  ])),\n",
       " (874257.7745517745, 660969.6398617743, 0.7840914495756063))"
      ]
     },
     "execution_count": 72,
     "metadata": {},
     "output_type": "execute_result"
    },
    {
     "data": {
      "image/png": "[encoded data removed]",
      "text/plain": [
       "<Figure size 640x480 with 1 Axes>"
      ]
     },
     "metadata": {},
     "output_type": "display_data"
    }
   ],
   "source": [
    "#Create QQ plot for net patient revenue. \n",
    "sts.probplot(CH_Data_New.NetPatRev, dist=\"norm\", plot=plt)"
   ]
  },
  {
   "cell_type": "code",
   "execution_count": 73,
   "id": "977f13ea-92a6-406d-bd61-3095b46d31a0",
   "metadata": {},
   "outputs": [
    {
     "data": {
      "text/plain": [
       "((array([-2.28632824, -1.92718526, -1.71674477, -1.56281938, -1.43895118,\n",
       "         -1.33390917, -1.24182024, -1.15920615, -1.08382718, -1.01415101,\n",
       "         -0.94907991, -0.88779833, -0.82968216, -0.77424185, -0.72108527,\n",
       "         -0.6698925 , -0.6203983 , -0.57237956, -0.52564609, -0.48003374,\n",
       "         -0.43539923, -0.39161603, -0.34857126, -0.30616308, -0.26429872,\n",
       "         -0.2228927 , -0.18186549, -0.14114226, -0.10065186, -0.06032587,\n",
       "         -0.02009779,  0.02009779,  0.06032587,  0.10065186,  0.14114226,\n",
       "          0.18186549,  0.2228927 ,  0.26429872,  0.30616308,  0.34857126,\n",
       "          0.39161603,  0.43539923,  0.48003374,  0.52564609,  0.57237956,\n",
       "          0.6203983 ,  0.6698925 ,  0.72108527,  0.77424185,  0.82968216,\n",
       "          0.88779833,  0.94907991,  1.01415101,  1.08382718,  1.15920615,\n",
       "          1.24182024,  1.33390917,  1.43895118,  1.56281938,  1.71674477,\n",
       "          1.92718526,  2.28632824]),\n",
       "  array([3.78771840e+06, 3.98989430e+06, 4.18115129e+06, 4.57888755e+06,\n",
       "         7.88857167e+06, 7.91653997e+06, 8.23508798e+06, 8.67987388e+06,\n",
       "         9.50169487e+06, 1.03268042e+07, 1.04025096e+07, 1.07274451e+07,\n",
       "         1.13917201e+07, 1.29960712e+07, 1.42595175e+07, 1.42612843e+07,\n",
       "         1.43920708e+07, 1.47274667e+07, 1.51599865e+07, 1.81583300e+07,\n",
       "         2.03485962e+07, 2.11849318e+07, 2.24100539e+07, 2.27011263e+07,\n",
       "         2.29222973e+07, 2.33380636e+07, 2.36236588e+07, 2.46613559e+07,\n",
       "         2.98469032e+07, 3.02776139e+07, 3.49162205e+07, 3.49162205e+07,\n",
       "         3.67392603e+07, 3.78324483e+07, 3.85827235e+07, 3.96214388e+07,\n",
       "         4.35718514e+07, 4.81594900e+07, 5.02641749e+07, 5.60550917e+07,\n",
       "         6.68015446e+07, 6.70301479e+07, 6.70301479e+07, 6.99688592e+07,\n",
       "         7.05820816e+07, 7.54922493e+07, 9.30667063e+07, 1.05600424e+08,\n",
       "         1.06430168e+08, 1.09328611e+08, 1.17664294e+08, 1.40295929e+08,\n",
       "         1.42325347e+08, 2.07990671e+08, 2.74160384e+08, 2.88075685e+08,\n",
       "         2.96020660e+08, 3.32127551e+08, 3.94890175e+08, 4.61675838e+08,\n",
       "         5.18309866e+08, 6.62155886e+08])),\n",
       " (110268530.97465496, 89267086.62932259, 0.7910726376484601))"
      ]
     },
     "execution_count": 73,
     "metadata": {},
     "output_type": "execute_result"
    },
    {
     "data": {
      "image/png": "[encoded data removed]",
      "text/plain": [
       "<Figure size 640x480 with 1 Axes>"
      ]
     },
     "metadata": {},
     "output_type": "display_data"
    }
   ],
   "source": [
    "#Create QQ plot for outpatient operating cost. \n",
    "sts.probplot(CH_Data_New.OutOperExp, dist=\"norm\", plot=plt)"
   ]
  },
  {
   "cell_type": "code",
   "execution_count": 74,
   "id": "f876c859-953c-410e-b541-b25b33bc568f",
   "metadata": {},
   "outputs": [
    {
     "data": {
      "text/plain": [
       "((array([-2.28632824, -1.92718526, -1.71674477, -1.56281938, -1.43895118,\n",
       "         -1.33390917, -1.24182024, -1.15920615, -1.08382718, -1.01415101,\n",
       "         -0.94907991, -0.88779833, -0.82968216, -0.77424185, -0.72108527,\n",
       "         -0.6698925 , -0.6203983 , -0.57237956, -0.52564609, -0.48003374,\n",
       "         -0.43539923, -0.39161603, -0.34857126, -0.30616308, -0.26429872,\n",
       "         -0.2228927 , -0.18186549, -0.14114226, -0.10065186, -0.06032587,\n",
       "         -0.02009779,  0.02009779,  0.06032587,  0.10065186,  0.14114226,\n",
       "          0.18186549,  0.2228927 ,  0.26429872,  0.30616308,  0.34857126,\n",
       "          0.39161603,  0.43539923,  0.48003374,  0.52564609,  0.57237956,\n",
       "          0.6203983 ,  0.6698925 ,  0.72108527,  0.77424185,  0.82968216,\n",
       "          0.88779833,  0.94907991,  1.01415101,  1.08382718,  1.15920615,\n",
       "          1.24182024,  1.33390917,  1.43895118,  1.56281938,  1.71674477,\n",
       "          1.92718526,  2.28632824]),\n",
       "  array([-321163336, -314000601, -119949304,  -81022041,   -7850861,\n",
       "           -5505933,   -5505933,   -5129238,   -5061461,   -4514239,\n",
       "           -3804313,   -3563893,   -2152920,   -1585993,   -1254783,\n",
       "           -1229238,   -1108177,    -791156,    -444391,    -191048,\n",
       "            -179274,      21025,      93097,     210180,     353566,\n",
       "             591431,     735057,     878929,     906670,    1105205,\n",
       "            1355554,    1572695,    1657323,    2034214,    2600695,\n",
       "            2724001,    2783953,    2791000,    2810751,    3040415,\n",
       "            3252242,    5546385,    5683870,    5683870,    5729737,\n",
       "            5990693,    6198330,    7943967,    9780718,   12321176,\n",
       "           12386360,   14001153,   18779323,   20056379,   38508125,\n",
       "           48616127,   53781218,   53860958,   59273999,  144445998,\n",
       "          146047105,  164872413], dtype=int64)),\n",
       " (52993376.37765961, -241648.8064516038, 0.7304717737056834))"
      ]
     },
     "execution_count": 74,
     "metadata": {},
     "output_type": "execute_result"
    },
    {
     "data": {
      "image/png": "[encoded data removed]",
      "text/plain": [
       "<Figure size 640x480 with 1 Axes>"
      ]
     },
     "metadata": {},
     "output_type": "display_data"
    }
   ],
   "source": [
    "#Create QQ plot for operating income. \n",
    "sts.probplot(CH_Data_New.OperInc, dist=\"norm\", plot=plt)"
   ]
  },
  {
   "cell_type": "markdown",
   "id": "5a64d934-5844-466e-92ba-a776da8c5696",
   "metadata": {},
   "source": [
    " #### Perform a Shapiro-Wilk test on those three variables."
   ]
  },
  {
   "cell_type": "code",
   "execution_count": 76,
   "id": "62c514d1-2694-4dd1-a74d-432ecbd165d6",
   "metadata": {},
   "outputs": [
    {
     "data": {
      "text/plain": [
       "ShapiroResult(statistic=0.6186828386181662, pvalue=2.0093808891893378e-11)"
      ]
     },
     "execution_count": 76,
     "metadata": {},
     "output_type": "execute_result"
    }
   ],
   "source": [
    "#Perform Shapiro-Wilk test on net patient revenue. \n",
    "sts.shapiro(CH_Data_New.NetPatRev)"
   ]
  },
  {
   "cell_type": "code",
   "execution_count": 77,
   "id": "755b4e60-81b6-4f37-b4db-f3f3eb80a6d6",
   "metadata": {},
   "outputs": [
    {
     "data": {
      "text/plain": [
       "ShapiroResult(statistic=0.6329930117227349, pvalue=3.497133310408869e-11)"
      ]
     },
     "execution_count": 77,
     "metadata": {},
     "output_type": "execute_result"
    }
   ],
   "source": [
    "#Perform Shapiro-Wilk test on outpatient operating cost. \n",
    "sts.shapiro(CH_Data_New.OutOperExp)"
   ]
  },
  {
   "cell_type": "code",
   "execution_count": 78,
   "id": "7829dc42-e039-476c-9e03-17b5d501dfa6",
   "metadata": {},
   "outputs": [
    {
     "data": {
      "text/plain": [
       "ShapiroResult(statistic=0.5570554433550541, pvalue=2.1506070763838443e-12)"
      ]
     },
     "execution_count": 78,
     "metadata": {},
     "output_type": "execute_result"
    }
   ],
   "source": [
    "#Perform Shapiro-Wilk test on operating income. \n",
    "sts.shapiro(CH_Data_New.OperInc)"
   ]
  },
  {
   "cell_type": "markdown",
   "id": "3ef6ff39-b66c-4cbd-b16b-7642013f0136",
   "metadata": {},
   "source": [
    "#### Do your test results coincide with the QQ plots?"
   ]
  },
  {
   "cell_type": "markdown",
   "id": "a7d2345e-cbd9-4d4f-b4a0-58d0b90ed869",
   "metadata": {},
   "source": [
    "Honestly, I have no idea. But, I'm going to go ahead and say yes, I think they do conincide. The QQ plots show that that distributions are not normal. (That is, if I am interpretting them correctely. The blue dots don't match the red line?) And the pvalues in the Shapiro-Wilk tests are much higher than .05. I really wish I had taken a statistics course. "
   ]
  },
  {
   "cell_type": "markdown",
   "id": "14eb5786-916d-4d13-9b58-3edd7453119e",
   "metadata": {},
   "source": [
    "# References"
   ]
  },
  {
   "cell_type": "markdown",
   "id": "d5857cc8-0350-4ec2-b74e-efb80f09addd",
   "metadata": {},
   "source": [
    "I found the syntax I used to get mean, median, min, and max here:\n",
    "https://pandas.pydata.org/docs/getting_started/intro_tutorials/06_calculate_statistics.html"
   ]
  }
 ],
 "metadata": {
  "kernelspec": {
   "display_name": "Python 3 (ipykernel)",
   "language": "python",
   "name": "python3"
  },
  "language_info": {
   "codemirror_mode": {
    "name": "ipython",
    "version": 3
   },
   "file_extension": ".py",
   "mimetype": "text/x-python",
   "name": "python",
   "nbconvert_exporter": "python",
   "pygments_lexer": "ipython3",
   "version": "3.12.7"
  }
 },
 "nbformat": 4,
 "nbformat_minor": 5
}
